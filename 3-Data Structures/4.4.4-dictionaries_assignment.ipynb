{
 "cells": [
  {
   "cell_type": "markdown",
   "id": "ee466967",
   "metadata": {},
   "source": [
    "## Lesson 3.4: Dictionaries"
   ]
  },
  {
   "cell_type": "markdown",
   "id": "b26e1ca3",
   "metadata": {},
   "source": [
    "### Assignment 1: Creating and Accessing Dictionaries\n",
    "\n",
    "Create a dictionary with the first 10 positive integers as keys and their squares as values. Print the dictionary.\n"
   ]
  },
  {
   "cell_type": "code",
   "execution_count": 6,
   "id": "21284c11",
   "metadata": {},
   "outputs": [
    {
     "name": "stdout",
     "output_type": "stream",
     "text": [
      "{1: 1, 2: 4, 3: 9, 4: 16, 5: 25, 6: 36, 7: 49, 8: 64, 9: 81, 10: 100}\n"
     ]
    }
   ],
   "source": [
    "d = {x:x**2 for x in range(1,11)}\n",
    "print(d)"
   ]
  },
  {
   "cell_type": "markdown",
   "id": "72f5ed88",
   "metadata": {},
   "source": [
    "### Assignment 2: Accessing Dictionary Elements\n",
    "\n",
    "Print the value of the key 5 and the keys of the dictionary created in Assignment 1.\n"
   ]
  },
  {
   "cell_type": "code",
   "execution_count": 47,
   "id": "54c85050",
   "metadata": {},
   "outputs": [
    {
     "name": "stdout",
     "output_type": "stream",
     "text": [
      "[20]\n",
      "Keys: [1, 2, 3, 4, 5]\n"
     ]
    }
   ],
   "source": [
    "print(d[5])\n",
    "print(f\"Keys: {list(d.keys())}\")"
   ]
  },
  {
   "cell_type": "markdown",
   "id": "fcb8ab2b",
   "metadata": {},
   "source": [
    "### Assignment 3: Dictionary Methods\n",
    "\n",
    "Add a new key-value pair (11, 121) to the dictionary created in Assignment 1 and then remove the key-value pair with key 1. Print the modified dictionary."
   ]
  },
  {
   "cell_type": "code",
   "execution_count": 11,
   "id": "3078aa42",
   "metadata": {},
   "outputs": [
    {
     "name": "stdout",
     "output_type": "stream",
     "text": [
      "{1: 1, 2: 4, 3: 9, 4: 16, 5: 25, 6: 36, 7: 49, 8: 64, 9: 81, 10: 100, '11': 121}\n",
      "{2: 4, 3: 9, 4: 16, 5: 25, 6: 36, 7: 49, 8: 64, 9: 81, 10: 100, '11': 121}\n"
     ]
    }
   ],
   "source": [
    "d['11']= 121\n",
    "print(d)\n",
    "del d[1]\n",
    "print(d)"
   ]
  },
  {
   "cell_type": "markdown",
   "id": "cdd81dd9",
   "metadata": {},
   "source": [
    "### Assignment 4: Iterating Over Dictionaries\n",
    "\n",
    "Iterate over the dictionary created in Assignment 1 and print each key-value pair."
   ]
  },
  {
   "cell_type": "code",
   "execution_count": 13,
   "id": "43cc6faa",
   "metadata": {},
   "outputs": [
    {
     "name": "stdout",
     "output_type": "stream",
     "text": [
      "2 : 4\n",
      "3 : 9\n",
      "4 : 16\n",
      "5 : 25\n",
      "6 : 36\n",
      "7 : 49\n",
      "8 : 64\n",
      "9 : 81\n",
      "10 : 100\n",
      "11 : 121\n"
     ]
    }
   ],
   "source": [
    "for keys, values in d.items():\n",
    "    print(f\"{keys} : {values}\")"
   ]
  },
  {
   "cell_type": "markdown",
   "id": "da611d07",
   "metadata": {},
   "source": [
    "### Assignment 5: Dictionary Comprehensions\n",
    "\n",
    "Create a new dictionary containing the cubes of the first 10 positive integers using a dictionary comprehension. Print the new dictionary."
   ]
  },
  {
   "cell_type": "code",
   "execution_count": 14,
   "id": "add2d0e1",
   "metadata": {},
   "outputs": [
    {
     "name": "stdout",
     "output_type": "stream",
     "text": [
      "{1: 1, 2: 8, 3: 27, 4: 64, 5: 125, 6: 216, 7: 343, 8: 512, 9: 729, 10: 1000}\n"
     ]
    }
   ],
   "source": [
    "cube = {x:x**3 for x in range(1,11)}\n",
    "print(cube)"
   ]
  },
  {
   "cell_type": "markdown",
   "id": "6148e141",
   "metadata": {},
   "source": [
    "### Assignment 6: Merging Dictionaries\n",
    "\n",
    "Create two dictionaries: one with keys as the first 5 positive integers and values as their squares, and another with keys as the next 5 positive integers and values as their squares. Merge these dictionaries into a single dictionary and print it."
   ]
  },
  {
   "cell_type": "code",
   "execution_count": 19,
   "id": "dc773740",
   "metadata": {},
   "outputs": [
    {
     "name": "stdout",
     "output_type": "stream",
     "text": [
      "{1: 1, 2: 4, 3: 9, 4: 16, 5: 25}\n",
      "{6: 36, 7: 49, 8: 64, 9: 81, 10: 100}\n",
      "{1: 1, 2: 4, 3: 9, 4: 16, 5: 25, 6: 36, 7: 49, 8: 64, 9: 81, 10: 100}\n"
     ]
    }
   ],
   "source": [
    "d1 = {x:x**2 for x in range(1,6)}\n",
    "d2 = {x:x**2 for x in range(6,11)}\n",
    "\n",
    "print(d1)\n",
    "print(d2)\n",
    "\n",
    "merg_dict = {**d1, **d2}\n",
    "print(merg_dict)"
   ]
  },
  {
   "cell_type": "markdown",
   "id": "9281c6fc",
   "metadata": {},
   "source": [
    "### Assignment 7: Nested Dictionaries\n",
    "\n",
    "Create a nested dictionary representing a student with keys 'name', 'age', 'grades', where 'grades' is another dictionary with keys 'math', 'science', and 'english'. Print the nested dictionary.\n"
   ]
  },
  {
   "cell_type": "code",
   "execution_count": 20,
   "id": "5b1a9d23",
   "metadata": {},
   "outputs": [
    {
     "name": "stdout",
     "output_type": "stream",
     "text": [
      "{'student': {'name': 'Vishal', 'age': 21, 'grade': 'A'}, 'grade': {'math': 87, 'science': 75, 'english': 99}}\n"
     ]
    }
   ],
   "source": [
    "dict = {\n",
    "    \"student\" : {'name': 'Vishal', 'age':21, 'grade':'A'},\n",
    "    'grade' : {'math':87,'science':75,'english': 99}\n",
    "}\n",
    "\n",
    "print(dict)"
   ]
  },
  {
   "cell_type": "markdown",
   "id": "747a8a41",
   "metadata": {},
   "source": [
    "### Assignment 8: Dictionary of Lists\n",
    "\n",
    "Create a dictionary where the keys are the first 5 positive integers and the values are lists containing the first 5 multiples of the key. Print the dictionary."
   ]
  },
  {
   "cell_type": "code",
   "execution_count": 48,
   "id": "d9081fd5",
   "metadata": {},
   "outputs": [
    {
     "name": "stdout",
     "output_type": "stream",
     "text": [
      "{1: [1, 2, 3, 4, 5], 2: [2, 4, 6, 8, 10], 3: [3, 6, 9, 12, 15], 4: [4, 8, 12, 16, 20], 5: [5, 10, 15, 20, 25]}\n"
     ]
    }
   ],
   "source": [
    "multiples = {i: [i* j for j in range(1,6)] for i in range(1,6)}\n",
    "\n",
    "print(multiples)"
   ]
  },
  {
   "cell_type": "markdown",
   "id": "c858017f",
   "metadata": {},
   "source": [
    "### Assignment 9: Dictionary of Tuples\n",
    "\n",
    "Create a dictionary where the keys are the first 5 positive integers and the values are tuples containing the key and its square. Print the dictionary."
   ]
  },
  {
   "cell_type": "code",
   "execution_count": 49,
   "id": "03492032",
   "metadata": {},
   "outputs": [
    {
     "name": "stdout",
     "output_type": "stream",
     "text": [
      "{1: (1, 1), 2: (2, 4), 3: (3, 9), 4: (4, 16), 5: (5, 25)}\n"
     ]
    }
   ],
   "source": [
    "dt = {i:(i, i**2) for i in range(1,6)}\n",
    "\n",
    "print(dt)"
   ]
  },
  {
   "cell_type": "markdown",
   "id": "009d118a",
   "metadata": {},
   "source": [
    "### Assignment 10: Dictionary and List Conversion\n",
    "\n",
    "Create a dictionary with the first 5 positive integers as keys and their squares as values. Convert the dictionary to a list of tuples and print it."
   ]
  },
  {
   "cell_type": "code",
   "execution_count": 50,
   "id": "4a1e4800",
   "metadata": {},
   "outputs": [
    {
     "name": "stdout",
     "output_type": "stream",
     "text": [
      "[(1, 1), (2, 4), (3, 9), (4, 16), (5, 25)]\n"
     ]
    }
   ],
   "source": [
    "sqr_dict = {x:x**2 for x in range(1,6)}\n",
    "lst_tpl = list(sqr_dict.items())\n",
    "\n",
    "print(lst_tpl)"
   ]
  },
  {
   "cell_type": "markdown",
   "id": "2e2e43c6",
   "metadata": {},
   "source": [
    "### Assignment 11: Dictionary Filtering\n",
    "\n",
    "Create a dictionary with the first 10 positive integers as keys and their squares as values. Create a new dictionary containing only the key-value pairs where the key is even. Print the new dictionary."
   ]
  },
  {
   "cell_type": "code",
   "execution_count": 52,
   "id": "c5316d8a",
   "metadata": {},
   "outputs": [
    {
     "name": "stdout",
     "output_type": "stream",
     "text": [
      "{4: 2, 16: 4, 36: 6, 64: 8, 100: 10}\n"
     ]
    }
   ],
   "source": [
    "DF = {x:x**2 for x in range(1,11)}\n",
    "DFeven = {j:i for i,j in DF.items() if j%2==0}\n",
    "print(DFeven)"
   ]
  },
  {
   "cell_type": "markdown",
   "id": "785665aa",
   "metadata": {},
   "source": [
    "### Assignment 12: Dictionary Key and Value Transformation\n",
    "\n",
    "Create a dictionary with the first 5 positive integers as keys and their squares as values. Create a new dictionary with keys and values swapped. Print the new dictionary."
   ]
  },
  {
   "cell_type": "code",
   "execution_count": 55,
   "id": "01dff254",
   "metadata": {},
   "outputs": [
    {
     "name": "stdout",
     "output_type": "stream",
     "text": [
      "{1: 1, 4: 2, 9: 3, 16: 4, 25: 5}\n"
     ]
    }
   ],
   "source": [
    "Dk = {x:x**2 for x in range(1,6)}\n",
    "Dksq = {v:k for k,v in Dk.items()}\n",
    "print(Dksq)"
   ]
  },
  {
   "cell_type": "markdown",
   "id": "da8aa2f6",
   "metadata": {},
   "source": [
    "### Assignment 13: Default Dictionary\n",
    "\n",
    "Create a default dictionary where each key has a default value of an empty list. Add some elements to the lists and print the dictionary.\n"
   ]
  },
  {
   "cell_type": "code",
   "execution_count": 56,
   "id": "47ebca5c",
   "metadata": {},
   "outputs": [
    {
     "name": "stdout",
     "output_type": "stream",
     "text": [
      "defaultdict(<class 'list'>, {'a': [1]})\n"
     ]
    }
   ],
   "source": [
    "from collections import defaultdict\n",
    "\n",
    "my_lst = defaultdict(list)\n",
    "my_lst['a'].append(1)\n",
    "print(my_lst)"
   ]
  },
  {
   "cell_type": "markdown",
   "id": "8997e0d8",
   "metadata": {},
   "source": [
    "### Assignment 14: Counting with Dictionaries\n",
    "\n",
    "Write a function that takes a string and returns a dictionary with the count of each character in the string. Print the dictionary."
   ]
  },
  {
   "cell_type": "code",
   "execution_count": 59,
   "id": "2ce3db75",
   "metadata": {},
   "outputs": [
    {
     "name": "stdout",
     "output_type": "stream",
     "text": [
      "{'H': 1, 'e': 1, 'l': 3, 'o': 2, ' ': 1, 'W': 1, 'r': 1, 'd': 1}\n"
     ]
    }
   ],
   "source": [
    "def count_char(s):\n",
    "    count_dict = {}\n",
    "    for char in s:\n",
    "        count_dict[char] = count_dict.get(char, 0)+1\n",
    "    return count_dict\n",
    "\n",
    "string = \"Hello World\"\n",
    "print(count_char(string))"
   ]
  },
  {
   "cell_type": "markdown",
   "id": "2e6b1d0b",
   "metadata": {},
   "source": [
    "### Assignment 15: Dictionary and JSON\n",
    "\n",
    "Create a dictionary representing a book with keys 'title', 'author', 'year', and 'genre'. Convert the dictionary to a JSON string and print it."
   ]
  },
  {
   "cell_type": "code",
   "execution_count": 46,
   "id": "25db9a99",
   "metadata": {},
   "outputs": [
    {
     "name": "stdout",
     "output_type": "stream",
     "text": [
      "{\"title\": \"Hands on ML\", \"author\": \"O'relly\", \"year\": 2021, \"genre\": \"tech\"}\n",
      "<class 'str'>\n"
     ]
    }
   ],
   "source": [
    "import json\n",
    "\n",
    "book = {\n",
    "    'title': 'Hands on ML',\n",
    "    'author': \"O'relly\",\n",
    "    'year' : 2021,\n",
    "    'genre': 'tech'\n",
    "}\n",
    "\n",
    "json_tring = json.dumps(book)\n",
    "print(json_tring)\n",
    "print(type(json_tring))"
   ]
  }
 ],
 "metadata": {
  "kernelspec": {
   "display_name": "base",
   "language": "python",
   "name": "python3"
  },
  "language_info": {
   "codemirror_mode": {
    "name": "ipython",
    "version": 3
   },
   "file_extension": ".py",
   "mimetype": "text/x-python",
   "name": "python",
   "nbconvert_exporter": "python",
   "pygments_lexer": "ipython3",
   "version": "3.12.7"
  }
 },
 "nbformat": 4,
 "nbformat_minor": 5
}
