{
 "cells": [
  {
   "cell_type": "markdown",
   "id": "d6036794",
   "metadata": {},
   "source": [
    "## Lesson 3.1: Lists"
   ]
  },
  {
   "cell_type": "markdown",
   "id": "b8f025ae",
   "metadata": {},
   "source": [
    "### Assignment 1: Creating and Accessing Lists\n",
    "\n",
    "Create a list of the first 20 positive integers. Print the list."
   ]
  },
  {
   "cell_type": "code",
   "execution_count": 1,
   "id": "c695a4f4",
   "metadata": {},
   "outputs": [
    {
     "name": "stdout",
     "output_type": "stream",
     "text": [
      "[1, 2, 3, 4, 5, 6, 7, 8, 9, 10, 11, 12, 13, 14, 15, 16, 17, 18, 19, 20]\n",
      "<class 'list'>\n"
     ]
    }
   ],
   "source": [
    "lst = []\n",
    "for i in range(1,21):\n",
    "    lst.append(i)\n",
    "\n",
    "print(lst)\n",
    "print(type(lst))\n"
   ]
  },
  {
   "cell_type": "markdown",
   "id": "d417e560",
   "metadata": {},
   "source": [
    "### Assignment 2: Accessing List Elements\n",
    "\n",
    "Print the first, middle, and last elements of the list created in Assignment 1."
   ]
  },
  {
   "cell_type": "code",
   "execution_count": 9,
   "id": "72005160",
   "metadata": {},
   "outputs": [
    {
     "name": "stdout",
     "output_type": "stream",
     "text": [
      "1\n",
      "[2, 3, 4, 5, 6, 7, 8, 9, 10, 11, 12, 13, 14, 15, 16, 17, 18, 19]\n",
      "20\n"
     ]
    }
   ],
   "source": [
    "(first, *middle, last)= lst\n",
    "\n",
    "print(first)\n",
    "print(middle)\n",
    "print(last)"
   ]
  },
  {
   "cell_type": "markdown",
   "id": "d4ca416a",
   "metadata": {},
   "source": [
    "### Assignment 3: List Slicing\n",
    "\n",
    "Print the first five elements, the last five elements, and the elements from index 5 to 15 of the list created in Assignment 1."
   ]
  },
  {
   "cell_type": "code",
   "execution_count": 3,
   "id": "bd51c252",
   "metadata": {},
   "outputs": [
    {
     "name": "stdout",
     "output_type": "stream",
     "text": [
      "[1, 2, 3, 4, 5]\n",
      "[16, 17, 18, 19, 20]\n",
      "[6, 7, 8, 9, 10, 11, 12, 13, 14, 15, 16]\n"
     ]
    }
   ],
   "source": [
    "print(lst[:5])\n",
    "print(lst[-5:])\n",
    "print(lst[5:16])"
   ]
  },
  {
   "cell_type": "markdown",
   "id": "e416e89f",
   "metadata": {},
   "source": [
    "### Assignment 4: List Comprehensions\n",
    "\n",
    "Create a new list containing the squares of the first 10 positive integers using a list comprehension. Print the new list."
   ]
  },
  {
   "cell_type": "code",
   "execution_count": 13,
   "id": "672b875d",
   "metadata": {},
   "outputs": [
    {
     "name": "stdout",
     "output_type": "stream",
     "text": [
      "[0, 1, 4, 9, 16, 25, 36, 49, 64, 81, 100]\n"
     ]
    }
   ],
   "source": [
    "sqr = [x**2 for x in range(11)]\n",
    "print(sqr)"
   ]
  },
  {
   "cell_type": "markdown",
   "id": "7999cd44",
   "metadata": {},
   "source": [
    "### Assignment 5: Filtering Lists\n",
    "\n",
    "Create a new list containing only the even numbers from the list created in Assignment 1 using a list comprehension. Print the new list."
   ]
  },
  {
   "cell_type": "code",
   "execution_count": 14,
   "id": "0dca1505",
   "metadata": {},
   "outputs": [
    {
     "name": "stdout",
     "output_type": "stream",
     "text": [
      "[2, 4, 6, 8, 10, 12, 14, 16, 18, 20]\n"
     ]
    }
   ],
   "source": [
    "even = [x for x in lst if x%2==0]\n",
    "print(even)\n"
   ]
  },
  {
   "cell_type": "markdown",
   "id": "bab1892c",
   "metadata": {},
   "source": [
    "### Assignment 6: List Methods\n",
    "\n",
    "Create a list of random numbers and sort it in ascending and descending order. Remove the duplicates from the list and print the modified list."
   ]
  },
  {
   "cell_type": "code",
   "execution_count": 37,
   "id": "b1b14b83",
   "metadata": {},
   "outputs": [
    {
     "name": "stdout",
     "output_type": "stream",
     "text": [
      "[2, 3, 4, 4, 5, 5, 5, 6, 7, 7, 8, 8, 42, 56, 56]\n",
      "[2, 3, 4, 5, 6, 7, 8, 42, 56]\n"
     ]
    }
   ],
   "source": [
    "mixed_list = [7,4,42,56,7,2,6,8,8,3,5,5,5,4,56]\n",
    "mixed_list.sort()\n",
    "print(mixed_list)\n",
    "\n",
    "uni_list = list(set(mixed_list))\n",
    "print(uni_list)"
   ]
  },
  {
   "cell_type": "markdown",
   "id": "bd7e3f97",
   "metadata": {},
   "source": [
    "### Assignment 7: Nested Lists\n",
    "\n",
    "Create a nested list representing a 3x3 matrix and print the matrix. Access and print the element at the second row and third column."
   ]
  },
  {
   "cell_type": "code",
   "execution_count": 6,
   "id": "7c34b51d",
   "metadata": {},
   "outputs": [
    {
     "name": "stdout",
     "output_type": "stream",
     "text": [
      "[3, 4, 5]\n",
      "[8, 9, 0]\n",
      "[1, 2, 6]\n",
      "0\n"
     ]
    }
   ],
   "source": [
    "lst = [[3,4,5],[8,9,0],[1,2,6]]\n",
    "for i in lst:\n",
    "    print(i)\n",
    "print(lst[1][2])"
   ]
  },
  {
   "cell_type": "markdown",
   "id": "6c025c77",
   "metadata": {},
   "source": [
    "### Assignment 8: List of Dictionaries\n",
    "\n",
    "Create a list of dictionaries where each dictionary represents a student with keys 'name' and 'score'. Sort the list of dictionaries by the 'score' in descending order and print the sorted list."
   ]
  },
  {
   "cell_type": "code",
   "execution_count": 12,
   "id": "2890c969",
   "metadata": {},
   "outputs": [
    {
     "name": "stdout",
     "output_type": "stream",
     "text": [
      "[{'name': 'Rohit', 'score': 9}, {'name': 'Vishal', 'score': 7}, {'name': 'shubham', 'score': 4}]\n"
     ]
    }
   ],
   "source": [
    "std_list = [{\"name\": \"Vishal\", \"score\": 7},\n",
    "       {\"name\": \"Rohit\", \"score\": 9},\n",
    "       {\"name\": \"shubham\", \"score\": 4}]\n",
    "\n",
    "print(sorted(std_list, key=lambda i: i['score'], reverse=True))"
   ]
  },
  {
   "cell_type": "markdown",
   "id": "224f4601",
   "metadata": {},
   "source": [
    "### Assignment 9: Matrix Transposition\n",
    "\n",
    "Write a function that takes a 3x3 matrix (nested list) as input and returns its transpose. Print the original and transposed matrices."
   ]
  },
  {
   "cell_type": "code",
   "execution_count": 38,
   "id": "58b8fb47",
   "metadata": {},
   "outputs": [
    {
     "name": "stdout",
     "output_type": "stream",
     "text": [
      "[1, 2, 3]\n",
      "[4, 5, 6]\n",
      "[7, 8, 9]\n",
      "\n",
      "1 4 7 \n",
      "2 5 8 \n",
      "3 6 9 \n"
     ]
    }
   ],
   "source": [
    "t_lst = [[1,2,3],[4,5,6],[7,8,9]]\n",
    "\n",
    "for i in t_lst:\n",
    "    print(i)\n",
    "print()\n",
    "\n",
    "\n",
    "for i in range(len(t_lst[0])):\n",
    "    for j in range(len(t_lst)):\n",
    "        print(t_lst[j][i], end=' ')\n",
    "    print()\n"
   ]
  },
  {
   "cell_type": "markdown",
   "id": "34af3e7f",
   "metadata": {},
   "source": [
    "### Assignment 10: Flattening a Nested List\n",
    "\n",
    "Write a function that takes a nested list and flattens it into a single list. Print the original and flattened lists."
   ]
  },
  {
   "cell_type": "code",
   "execution_count": 45,
   "id": "dd9d08e7",
   "metadata": {},
   "outputs": [
    {
     "name": "stdout",
     "output_type": "stream",
     "text": [
      "[1, 2, 3, 4, 5, 6, 7, 8, 9]\n"
     ]
    }
   ],
   "source": [
    "nst_list = [[1, 2, 3], [4, 5, 6], [7, 8, 9]]\n",
    "flat_list = []\n",
    "for i in nst_list:\n",
    "    for j in i:\n",
    "        flat_list.append(j)\n",
    "print(flat_list)"
   ]
  },
  {
   "cell_type": "markdown",
   "id": "8138b527",
   "metadata": {},
   "source": [
    "### Assignment 11: List Manipulation\n",
    "\n",
    "Create a list of the first 10 positive integers. Remove the elements at indices 2, 4, and 6, and insert the element '99' at index 5. Print the modified list."
   ]
  },
  {
   "cell_type": "code",
   "execution_count": 7,
   "id": "6dc5db65",
   "metadata": {},
   "outputs": [
    {
     "name": "stdout",
     "output_type": "stream",
     "text": [
      "[1, 2, 4, 6, 8, 9, 10]\n",
      "[1, 2, 4, 6, 8, 99, 9, 10]\n"
     ]
    }
   ],
   "source": [
    "Positive_List = [1,2,3,4,5,6,7,8,9,10]\n",
    "del Positive_List[2:7:2]\n",
    "print(Positive_List)\n",
    "\n",
    "Positive_List.insert(5, 99)\n",
    "print(Positive_List)\n"
   ]
  },
  {
   "cell_type": "markdown",
   "id": "3c6fd014",
   "metadata": {},
   "source": [
    "### Assignment 12: List Zipping\n",
    "\n",
    "Create two lists of the same length. Use the `zip` function to combine these lists into a list of tuples and print the result.\n"
   ]
  },
  {
   "cell_type": "code",
   "execution_count": 9,
   "id": "8b814920",
   "metadata": {},
   "outputs": [
    {
     "name": "stdout",
     "output_type": "stream",
     "text": [
      "[('vishal', 3), ('Rohit', 4), ('Abhjit', 5)]\n"
     ]
    }
   ],
   "source": [
    "list1 = [\"vishal\", \"Rohit\", \"Abhjit\"]\n",
    "list2 = [3,4,5]\n",
    "\n",
    "zipped = zip(list1, list2)\n",
    "print((list(zipped)))"
   ]
  },
  {
   "cell_type": "markdown",
   "id": "a86cfd71",
   "metadata": {},
   "source": [
    "### Assignment 13: List Reversal\n",
    "\n",
    "Write a function that takes a list and returns a new list with the elements in reverse order. Print the original and reversed lists."
   ]
  },
  {
   "cell_type": "code",
   "execution_count": null,
   "id": "7de6c37a",
   "metadata": {},
   "outputs": [
    {
     "name": "stdout",
     "output_type": "stream",
     "text": [
      "original list:  [1, 2, 3, 4, 5]\n",
      "Reversal List:  [5, 4, 3, 2, 1]\n"
     ]
    }
   ],
   "source": [
    "def list_reversal(lst):\n",
    "    return lst[::-1]\n",
    "\n",
    "lst = [1,2,3,4,5]\n",
    "print(\"original list: \",lst)\n",
    "print(\"Reversed List: \", list_reversal(lst))"
   ]
  },
  {
   "cell_type": "markdown",
   "id": "61a1e31c",
   "metadata": {},
   "source": [
    "### Assignment 14: List Rotation\n",
    "\n",
    "Write a function that rotates a list by n positions. Print the original and rotated lists."
   ]
  },
  {
   "cell_type": "code",
   "execution_count": 29,
   "id": "4261cd12",
   "metadata": {},
   "outputs": [
    {
     "name": "stdout",
     "output_type": "stream",
     "text": [
      "orinal list:  [1, 2, 3, 4, 5, 6]\n",
      "Rotated list:  [3, 4, 5, 6, 1, 2]\n"
     ]
    }
   ],
   "source": [
    "lst = [1,2,3,4,5,6]\n",
    "\n",
    "def rotate_lst(lst, n):\n",
    "    return lst[n:] + lst[:n]\n",
    "\n",
    "roatetd_list = rotate_lst(lst, 2)\n",
    "\n",
    "print(\"orinal list: \",lst)\n",
    "print(\"Rotated list: \",roatetd_list)"
   ]
  },
  {
   "cell_type": "markdown",
   "id": "ab7a41e7",
   "metadata": {},
   "source": [
    "### Assignment 15: List Intersection\n",
    "\n",
    "Write a function that takes two lists and returns a new list containing only the elements that are present in both lists. Print the intersected list."
   ]
  },
  {
   "cell_type": "code",
   "execution_count": 31,
   "id": "bcf123c6",
   "metadata": {},
   "outputs": [
    {
     "name": "stdout",
     "output_type": "stream",
     "text": [
      "[4, 5]\n"
     ]
    }
   ],
   "source": [
    "def intersection_list(list1,list2):\n",
    "    return [x for x in list1 if x in list2]\n",
    "\n",
    "list1 = [1,2,3,4,5]\n",
    "list2 = [4,5,6,7,8]\n",
    "common_list = intersection_list(list1, list2)\n",
    "\n",
    "print(common_list)"
   ]
  }
 ],
 "metadata": {
  "kernelspec": {
   "display_name": "base",
   "language": "python",
   "name": "python3"
  },
  "language_info": {
   "codemirror_mode": {
    "name": "ipython",
    "version": 3
   },
   "file_extension": ".py",
   "mimetype": "text/x-python",
   "name": "python",
   "nbconvert_exporter": "python",
   "pygments_lexer": "ipython3",
   "version": "3.12.7"
  }
 },
 "nbformat": 4,
 "nbformat_minor": 5
}
