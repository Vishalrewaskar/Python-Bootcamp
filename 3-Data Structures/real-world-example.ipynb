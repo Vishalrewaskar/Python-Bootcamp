{
 "cells": [
  {
   "cell_type": "markdown",
   "id": "8361a0f5",
   "metadata": {},
   "source": [
    "### Ex 1: Manage a TO-Do list\n",
    " - create a to do list to keep track of tasks"
   ]
  },
  {
   "cell_type": "code",
   "execution_count": 3,
   "id": "0c86f59d",
   "metadata": {},
   "outputs": [
    {
     "name": "stdout",
     "output_type": "stream",
     "text": [
      "Don't forget to pay the utility bills\n",
      "To do list remaining\n",
      "-Buy Grocerries\n",
      "-Pay Bills\n",
      "-Schedule meeting\n",
      "-Go for a Run\n"
     ]
    }
   ],
   "source": [
    "to_do_list = [\"Buy Grocerries\", \"clean the house\", \"Pay Bills\"]\n",
    "\n",
    "##Adding to task\n",
    "to_do_list.append('Schedule meeting')\n",
    "to_do_list.append('Go for a Run')\n",
    "\n",
    "## Removing a completed task\n",
    "to_do_list.remove('clean the house')\n",
    "\n",
    "##cheking if the task in the list\n",
    "if 'Pay Bills' in to_do_list:\n",
    "    print(\"Don't forget to pay the utility bills\")\n",
    "\n",
    "print(\"To do list remaining\")\n",
    "for task in to_do_list:\n",
    "    print(f\"-{task}\")"
   ]
  },
  {
   "cell_type": "markdown",
   "id": "8b16b759",
   "metadata": {},
   "source": [
    "### Ex 2: Organizing Student Grades\n",
    " - create  a list to store and calculate average grades for students "
   ]
  },
  {
   "cell_type": "code",
   "execution_count": 4,
   "id": "0b3707cb",
   "metadata": {},
   "outputs": [
    {
     "name": "stdout",
     "output_type": "stream",
     "text": [
      "Average grades: 88.0\n",
      "Highest grade: 95\n",
      "Lowest grade: 78\n"
     ]
    }
   ],
   "source": [
    "grades = [85,92,78, 90,88]\n",
    "\n",
    "grades.append(95)\n",
    "\n",
    "ave_grade = sum(grades)/ len(grades)\n",
    "print(f\"Average grades: {ave_grade}\")\n",
    "\n",
    "highest_grade = max(grades)\n",
    "lowest_grade = min(grades)\n",
    "\n",
    "print(f\"Highest grade: {highest_grade}\")\n",
    "print(f\"Lowest grade: {lowest_grade}\")"
   ]
  },
  {
   "cell_type": "markdown",
   "id": "a0c53ede",
   "metadata": {},
   "source": [
    "### Ex. 3: Managing an Inventory\n",
    " - Use a list to manage inventory items in a store "
   ]
  },
  {
   "cell_type": "code",
   "execution_count": 5,
   "id": "34d7289d",
   "metadata": {},
   "outputs": [
    {
     "name": "stdout",
     "output_type": "stream",
     "text": [
      "oranges in stocks\n",
      "Inventry List: \n",
      "-apple\n",
      "-oranges\n",
      "-grapes\n",
      "-watermelon\n"
     ]
    }
   ],
   "source": [
    "inventory = ['apple', 'bananas', 'oranges', 'grapes']\n",
    "\n",
    "inventory.append('watermelon')\n",
    "\n",
    "inventory.remove('bananas')\n",
    "\n",
    "item='oranges'\n",
    "if item in inventory:\n",
    "    print(f\"{item} in stocks\")\n",
    "else:\n",
    "    print(f\"{item} is out of stock.\")\n",
    "\n",
    "print(\"Inventry List: \")\n",
    "for item in inventory:\n",
    "    print(f\"-{item}\")"
   ]
  },
  {
   "cell_type": "markdown",
   "id": "b24f6c2b",
   "metadata": {},
   "source": [
    "### Ex. 4: Collecting user feedback\n",
    " - Use a list to collect and analyze user feedback\n"
   ]
  },
  {
   "cell_type": "code",
   "execution_count": 6,
   "id": "77452ef0",
   "metadata": {},
   "outputs": [
    {
     "name": "stdout",
     "output_type": "stream",
     "text": [
      "Positive feedback: 2\n",
      "User feedback:\n",
      "-Great service!\n",
      "-Very satisfied\n",
      "-Could be better\n",
      "-Excellent experience\n",
      "-Not happy with the service\n"
     ]
    }
   ],
   "source": [
    "feedback = [\"Great service!\", \"Very satisfied\", \"Could be better\", \"Excellent experience\"]\n",
    "\n",
    "feedback.append(\"Not happy with the service\")\n",
    "\n",
    "positive_feedback_count = sum(1 for comment in feedback if 'great' in comment.lower() or 'excellent' in comment.lower())\n",
    "print(f\"Positive feedback: {positive_feedback_count}\")\n",
    "\n",
    "print(\"User feedback:\")\n",
    "for comments in feedback:\n",
    "    print(f\"-{comments}\")"
   ]
  }
 ],
 "metadata": {
  "kernelspec": {
   "display_name": "base",
   "language": "python",
   "name": "python3"
  },
  "language_info": {
   "codemirror_mode": {
    "name": "ipython",
    "version": 3
   },
   "file_extension": ".py",
   "mimetype": "text/x-python",
   "name": "python",
   "nbconvert_exporter": "python",
   "pygments_lexer": "ipython3",
   "version": "3.12.7"
  }
 },
 "nbformat": 4,
 "nbformat_minor": 5
}
