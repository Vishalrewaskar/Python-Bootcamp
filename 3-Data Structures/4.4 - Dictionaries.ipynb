{
 "cells": [
  {
   "cell_type": "markdown",
   "id": "3311ca2f",
   "metadata": {},
   "source": [
    "## Dictionaries\n",
    " - Dictionaries are unordered collections of items. \n",
    " - They store data in key-value pairs. \n",
    " - Keys must be unique and immutable (e.g., strings, numbers, or tuples), while values can be of any type."
   ]
  },
  {
   "cell_type": "code",
   "execution_count": 1,
   "id": "65d94789",
   "metadata": {},
   "outputs": [
    {
     "name": "stdout",
     "output_type": "stream",
     "text": [
      "<class 'dict'>\n"
     ]
    }
   ],
   "source": [
    "## Creating Dictionaries\n",
    "empty_dict = {}\n",
    "print(type(empty_dict))"
   ]
  },
  {
   "cell_type": "code",
   "execution_count": 2,
   "id": "8cf093bb",
   "metadata": {},
   "outputs": [
    {
     "data": {
      "text/plain": [
       "{}"
      ]
     },
     "execution_count": 2,
     "metadata": {},
     "output_type": "execute_result"
    }
   ],
   "source": [
    "empty_dict= dict()\n",
    "empty_dict"
   ]
  },
  {
   "cell_type": "code",
   "execution_count": 4,
   "id": "817b78d7",
   "metadata": {},
   "outputs": [
    {
     "name": "stdout",
     "output_type": "stream",
     "text": [
      "{'name': 'Vishal', 'age': 22, 'grade': 'A'}\n",
      "<class 'dict'>\n"
     ]
    }
   ],
   "source": [
    "student = {\"name\":\"Vishal\", \"age\":22 , \"grade\":'A'}\n",
    "print(student)\n",
    "print(type(student))"
   ]
  },
  {
   "cell_type": "code",
   "execution_count": 6,
   "id": "fc923d8f",
   "metadata": {},
   "outputs": [
    {
     "name": "stdout",
     "output_type": "stream",
     "text": [
      "{'name': 'Raaj', 'age': 22, 'grade': 'A'}\n",
      "<class 'dict'>\n"
     ]
    }
   ],
   "source": [
    "# Single key is slways used\n",
    "student = {\"name\":\"Vishal\", \"age\":22 , \"grade\":'A', \"name\":\"Raaj\"}\n",
    "print(student)\n",
    "print(type(student))\n"
   ]
  },
  {
   "cell_type": "code",
   "execution_count": 7,
   "id": "43dcf048",
   "metadata": {},
   "outputs": [
    {
     "name": "stdout",
     "output_type": "stream",
     "text": [
      "{'name': 'Vishal', 'age': 22, 'grade': 'A'}\n"
     ]
    }
   ],
   "source": [
    "## accessing Dictionary Elements\n",
    "student = {\"name\":\"Vishal\", \"age\":22 , \"grade\":'A'}\n",
    "print(student)"
   ]
  },
  {
   "cell_type": "code",
   "execution_count": 12,
   "id": "f74b2c6e",
   "metadata": {},
   "outputs": [
    {
     "name": "stdout",
     "output_type": "stream",
     "text": [
      "A\n",
      "22\n",
      "Vishal\n",
      "None\n",
      "Not available in dictionary\n"
     ]
    }
   ],
   "source": [
    "## Accessing Dictionary elements\n",
    "print(student['grade'])\n",
    "print(student['age'])\n",
    "\n",
    "## Accessing using get() method\n",
    "print(student.get('name'))\n",
    "print(student.get('last name')) # not available in dictionary -> None\n",
    "print(student.get('last name', \"Not available in dictionary\"))"
   ]
  },
  {
   "cell_type": "markdown",
   "id": "c611cf4e",
   "metadata": {},
   "source": [
    "### Modifying Dicitonary Elements\n",
    "Dictionary are mutable,so you can add, update or delete elements\n"
   ]
  },
  {
   "cell_type": "code",
   "execution_count": 13,
   "id": "d7187199",
   "metadata": {},
   "outputs": [
    {
     "name": "stdout",
     "output_type": "stream",
     "text": [
      "{'name': 'Vishal', 'age': 22, 'grade': 'A'}\n"
     ]
    }
   ],
   "source": [
    "print(student)"
   ]
  },
  {
   "cell_type": "code",
   "execution_count": 15,
   "id": "c6a835da",
   "metadata": {},
   "outputs": [
    {
     "name": "stdout",
     "output_type": "stream",
     "text": [
      "{'name': 'Vishal', 'age': 28, 'grade': 'A'}\n",
      "{'name': 'Vishal', 'age': 28, 'grade': 'A', 'address': 'Pune'}\n"
     ]
    }
   ],
   "source": [
    "student['age'] = 28 ##update value for the key\n",
    "print(student)\n",
    "student['address'] = 'Pune'  ## added a new key and value\n",
    "print(student)"
   ]
  },
  {
   "cell_type": "code",
   "execution_count": 16,
   "id": "492a13f2",
   "metadata": {},
   "outputs": [
    {
     "name": "stdout",
     "output_type": "stream",
     "text": [
      "{'name': 'Vishal', 'age': 28, 'address': 'Pune'}\n"
     ]
    }
   ],
   "source": [
    "del student['grade']  ## delete key and value pair\n",
    "print(student)"
   ]
  },
  {
   "cell_type": "markdown",
   "id": "39a3a473",
   "metadata": {},
   "source": [
    "### Dictionary methods"
   ]
  },
  {
   "cell_type": "code",
   "execution_count": 17,
   "id": "c939e0a1",
   "metadata": {},
   "outputs": [
    {
     "name": "stdout",
     "output_type": "stream",
     "text": [
      "dict_keys(['name', 'age', 'address'])\n",
      "dict_values(['Vishal', 28, 'Pune'])\n",
      "dict_items([('name', 'Vishal'), ('age', 28), ('address', 'Pune')])\n"
     ]
    }
   ],
   "source": [
    "keys = student.keys() ##get all the keys\n",
    "print(keys)\n",
    "\n",
    "values = student.values() ## get all values\n",
    "print(values)\n",
    "\n",
    "item = student.items()  ##get all key value pairs\n",
    "print(item)"
   ]
  },
  {
   "cell_type": "markdown",
   "id": "54fcd679",
   "metadata": {},
   "source": [
    "### Shallow Copy\n"
   ]
  },
  {
   "cell_type": "code",
   "execution_count": 18,
   "id": "e8d95df7",
   "metadata": {},
   "outputs": [
    {
     "name": "stdout",
     "output_type": "stream",
     "text": [
      "{'name': 'Vishal', 'age': 28, 'address': 'Pune'}\n",
      "{'name': 'Vishal', 'age': 28, 'address': 'Pune'}\n"
     ]
    }
   ],
   "source": [
    "std_copy = student\n",
    "print(student)\n",
    "print(std_copy)"
   ]
  },
  {
   "cell_type": "code",
   "execution_count": null,
   "id": "83a16c4b",
   "metadata": {},
   "outputs": [
    {
     "name": "stdout",
     "output_type": "stream",
     "text": [
      "{'name': 'Krish', 'age': 28, 'address': 'Pune'}\n",
      "{'name': 'Krish', 'age': 28, 'address': 'Pune'}\n"
     ]
    }
   ],
   "source": [
    "student['name'] = \"Krish\"\n",
    "print(student)\n",
    "print(std_copy) ## name changed in both dict"
   ]
  },
  {
   "cell_type": "code",
   "execution_count": 20,
   "id": "2a79438b",
   "metadata": {},
   "outputs": [
    {
     "name": "stdout",
     "output_type": "stream",
     "text": [
      "{'name': 'Krish', 'age': 28, 'address': 'Pune'}\n",
      "{'name': 'Krish', 'age': 28, 'address': 'Pune'}\n"
     ]
    }
   ],
   "source": [
    "student_copy = student.copy()  ## Shallow Copy\n",
    "print(student)\n",
    "print(student_copy)"
   ]
  },
  {
   "cell_type": "code",
   "execution_count": 22,
   "id": "db61944a",
   "metadata": {},
   "outputs": [
    {
     "name": "stdout",
     "output_type": "stream",
     "text": [
      "{'name': 'VISHAL', 'age': 28, 'address': 'Pune'}\n",
      "{'name': 'Krish', 'age': 28, 'address': 'Pune'}\n"
     ]
    }
   ],
   "source": [
    "student['name'] = \"VISHAL\"\n",
    "print(student)\n",
    "print(student_copy)"
   ]
  },
  {
   "cell_type": "markdown",
   "id": "7d58c56e",
   "metadata": {},
   "source": [
    "### Iterating Over Dictionaries\n"
   ]
  },
  {
   "cell_type": "code",
   "execution_count": 23,
   "id": "66edd2ea",
   "metadata": {},
   "outputs": [
    {
     "name": "stdout",
     "output_type": "stream",
     "text": [
      "name\n",
      "age\n",
      "address\n"
     ]
    }
   ],
   "source": [
    "## Iterating over keys\n",
    "\n",
    "for keys in student.keys():\n",
    "    print(keys)"
   ]
  },
  {
   "cell_type": "code",
   "execution_count": 25,
   "id": "33f1e672",
   "metadata": {},
   "outputs": [
    {
     "name": "stdout",
     "output_type": "stream",
     "text": [
      "VISHAL\n",
      "28\n",
      "Pune\n"
     ]
    }
   ],
   "source": [
    "## Iterating over Values\n",
    "\n",
    "for value in student.values():\n",
    "    print(value)"
   ]
  },
  {
   "cell_type": "code",
   "execution_count": 26,
   "id": "d6ebdce0",
   "metadata": {},
   "outputs": [
    {
     "name": "stdout",
     "output_type": "stream",
     "text": [
      "name : VISHAL\n",
      "age : 28\n",
      "address : Pune\n"
     ]
    }
   ],
   "source": [
    "## Iterate over key value pairs\n",
    "\n",
    "for key, value in student.items():\n",
    "    print(f\"{key} : {value}\")"
   ]
  },
  {
   "cell_type": "markdown",
   "id": "0dfd47a3",
   "metadata": {},
   "source": [
    "### Nested Disctionaries\n"
   ]
  },
  {
   "cell_type": "code",
   "execution_count": 28,
   "id": "5667b1d5",
   "metadata": {},
   "outputs": [
    {
     "name": "stdout",
     "output_type": "stream",
     "text": [
      "{'std1': {'name': 'Vishal', 'age': 23}, 'std2': {'name': 'Krish', 'age': 35}}\n"
     ]
    }
   ],
   "source": [
    "student = {\n",
    "    \"std1\": {\"name\": \"Vishal\", 'age':23},\n",
    "    \"std2\": {\"name\": \"Krish\", 'age':35}\n",
    "}\n",
    "print(student)"
   ]
  },
  {
   "cell_type": "code",
   "execution_count": 29,
   "id": "630b999a",
   "metadata": {},
   "outputs": [
    {
     "name": "stdout",
     "output_type": "stream",
     "text": [
      "Krish\n",
      "23\n"
     ]
    }
   ],
   "source": [
    "## Access nested dictionaries elementss\n",
    "print(student['std2']['name'])\n",
    "print(student['std1']['age'])"
   ]
  },
  {
   "cell_type": "code",
   "execution_count": 30,
   "id": "a4cd5a9b",
   "metadata": {},
   "outputs": [
    {
     "data": {
      "text/plain": [
       "dict_items([('std1', {'name': 'Vishal', 'age': 23}), ('std2', {'name': 'Krish', 'age': 35})])"
      ]
     },
     "execution_count": 30,
     "metadata": {},
     "output_type": "execute_result"
    }
   ],
   "source": [
    "student.items()"
   ]
  },
  {
   "cell_type": "markdown",
   "id": "331fdb3c",
   "metadata": {},
   "source": [
    "### Iterating over nested dictionaries\n"
   ]
  },
  {
   "cell_type": "code",
   "execution_count": 34,
   "id": "afd12ee2",
   "metadata": {},
   "outputs": [
    {
     "name": "stdout",
     "output_type": "stream",
     "text": [
      "std1 {'name': 'Vishal', 'age': 23}\n",
      "name Vishal\n",
      "age 23\n",
      "std2 {'name': 'Krish', 'age': 35}\n",
      "name Krish\n",
      "age 35\n"
     ]
    }
   ],
   "source": [
    "for std_id, std_info in student.items():\n",
    "    print(std_id, std_info)\n",
    "    for key, value in std_info.items():\n",
    "        print(key, value)"
   ]
  },
  {
   "cell_type": "markdown",
   "id": "91d52a02",
   "metadata": {},
   "source": [
    "### Dictionary Comphrehension\n"
   ]
  },
  {
   "cell_type": "code",
   "execution_count": null,
   "id": "c2fcd891",
   "metadata": {},
   "outputs": [
    {
     "name": "stdout",
     "output_type": "stream",
     "text": [
      "{0: 0, 1: 1, 2: 4, 3: 9, 4: 16}\n"
     ]
    }
   ],
   "source": [
    "sqr = {x:x**2 for x in range(5)}\n",
    "print(sqr)"
   ]
  },
  {
   "cell_type": "code",
   "execution_count": 36,
   "id": "2d409378",
   "metadata": {},
   "outputs": [
    {
     "name": "stdout",
     "output_type": "stream",
     "text": [
      "{0: 0, 2: 2, 4: 4, 6: 6, 8: 8}\n"
     ]
    }
   ],
   "source": [
    "## Condition dictionary comprehension\n",
    "even = {x:x for x in range(10) if x%2==0}\n",
    "print(even)"
   ]
  },
  {
   "cell_type": "markdown",
   "id": "2c4d8308",
   "metadata": {},
   "source": [
    "## Practical Examples\n"
   ]
  },
  {
   "cell_type": "code",
   "execution_count": null,
   "id": "a2428099",
   "metadata": {},
   "outputs": [],
   "source": [
    "## USe a dictionary to count he frequency of elements in list\n",
    "\n",
    "numbers=[1,2,2,3,3,3,4,4,4,4]\n",
    "frequency={}\n",
    "\n",
    "for number in numbers:\n",
    "    if number in frequency:\n",
    "        frequency[number]+=1\n",
    "    else:\n",
    "        frequency[number]=1\n",
    "print(frequency)\n",
    "{1: 1, 2: 2, 3: 3, 4: 4}"
   ]
  },
  {
   "cell_type": "code",
   "execution_count": 37,
   "id": "2f6efffb",
   "metadata": {},
   "outputs": [
    {
     "name": "stdout",
     "output_type": "stream",
     "text": [
      "{'a': 1, 'b': 2, 'c': 3, 'd': 4}\n"
     ]
    }
   ],
   "source": [
    "## Merge 2 dictionaries into one\n",
    "dict1 = {\"a\":1, \"b\":2}\n",
    "dict2 = {\"c\":3, \"d\":4}\n",
    "merged = {**dict1, **dict2}\n",
    "print(merged)"
   ]
  },
  {
   "cell_type": "markdown",
   "id": "96a220e9",
   "metadata": {},
   "source": [
    "### Conclusion\n",
    " - Dictionaries are powerful tools in Python for managing key-value pairs. \n",
    " - They are used in a variety of real-world scenarios, such as counting word frequency, grouping data, storing configuration settings, managing phonebooks, tracking inventory, and caching results. \n",
    " - Understanding how to leverage dictionaries effectively can greatly enhance the efficiency and readability of your code."
   ]
  }
 ],
 "metadata": {
  "kernelspec": {
   "display_name": "base",
   "language": "python",
   "name": "python3"
  },
  "language_info": {
   "codemirror_mode": {
    "name": "ipython",
    "version": 3
   },
   "file_extension": ".py",
   "mimetype": "text/x-python",
   "name": "python",
   "nbconvert_exporter": "python",
   "pygments_lexer": "ipython3",
   "version": "3.12.7"
  }
 },
 "nbformat": 4,
 "nbformat_minor": 5
}
