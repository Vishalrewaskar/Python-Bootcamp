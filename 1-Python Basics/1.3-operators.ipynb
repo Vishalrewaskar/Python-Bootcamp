{
 "cells": [
  {
   "cell_type": "markdown",
   "id": "0d65da06",
   "metadata": {},
   "source": [
    "Operators"
   ]
  },
  {
   "cell_type": "markdown",
   "id": "40d57723",
   "metadata": {},
   "source": [
    "1. Arithmetic Operators\n",
    "- Addition\n",
    "- Subtraction\n",
    "- Multiplication\n",
    "- Division\n",
    "- Floor Division\n",
    "- Modulus\n",
    "- Exponentiation\n"
   ]
  },
  {
   "cell_type": "markdown",
   "id": "3f45ba24",
   "metadata": {},
   "source": [
    "2. Comparison Operators\n",
    "- Equal to\n",
    "- Not equal to\n",
    "- Greater than\n",
    "- Less than\n",
    "- Greater than or equal to\n",
    "- Less than or equal to"
   ]
  },
  {
   "cell_type": "markdown",
   "id": "5becbb46",
   "metadata": {},
   "source": [
    "3. Logical Operators\n",
    "- AND\n",
    "- OR\n",
    "- NOT"
   ]
  },
  {
   "cell_type": "code",
   "execution_count": 1,
   "id": "9c1e2e88",
   "metadata": {},
   "outputs": [
    {
     "name": "stdout",
     "output_type": "stream",
     "text": [
      "15\n",
      "5\n",
      "50\n",
      "2.0\n",
      "0\n",
      "100000\n"
     ]
    }
   ],
   "source": [
    "## Arithmethic Operation\n",
    "\n",
    "a=10\n",
    "b=5\n",
    "\n",
    "add_result=a+b\n",
    "sub_result=a-b\n",
    "mult_result=a*b\n",
    "div_result=a/b\n",
    "module_res=a%b\n",
    "\n",
    "exponent_Res=a**b\n",
    "\n",
    "print(add_result)\n",
    "print(sub_result)\n",
    "print(mult_result)\n",
    "print(div_result)\n",
    "print(module_res)\n",
    "print(exponent_Res)"
   ]
  },
  {
   "cell_type": "code",
   "execution_count": 2,
   "id": "e182247a",
   "metadata": {},
   "outputs": [
    {
     "data": {
      "text/plain": [
       "4.2"
      ]
     },
     "execution_count": 2,
     "metadata": {},
     "output_type": "execute_result"
    }
   ],
   "source": [
    "21/5"
   ]
  },
  {
   "cell_type": "code",
   "execution_count": 3,
   "id": "e48a460d",
   "metadata": {},
   "outputs": [
    {
     "data": {
      "text/plain": [
       "4"
      ]
     },
     "execution_count": 3,
     "metadata": {},
     "output_type": "execute_result"
    }
   ],
   "source": [
    "21//5"
   ]
  },
  {
   "cell_type": "markdown",
   "id": "b18ebc12",
   "metadata": {},
   "source": [
    "Comparison Operators\n"
   ]
  },
  {
   "cell_type": "code",
   "execution_count": 5,
   "id": "360ddd63",
   "metadata": {},
   "outputs": [
    {
     "data": {
      "text/plain": [
       "True"
      ]
     },
     "execution_count": 5,
     "metadata": {},
     "output_type": "execute_result"
    }
   ],
   "source": [
    "## == Equal to\n",
    "a=10\n",
    "b=10\n",
    "\n",
    "a==b"
   ]
  },
  {
   "cell_type": "code",
   "execution_count": 6,
   "id": "41da1544",
   "metadata": {},
   "outputs": [
    {
     "data": {
      "text/plain": [
       "True"
      ]
     },
     "execution_count": 6,
     "metadata": {},
     "output_type": "execute_result"
    }
   ],
   "source": [
    "str1=\"Vishal\"\n",
    "str2=\"Vishal\"\n",
    "\n",
    "str1==str2"
   ]
  },
  {
   "cell_type": "code",
   "execution_count": 7,
   "id": "24bb6382",
   "metadata": {},
   "outputs": [
    {
     "data": {
      "text/plain": [
       "False"
      ]
     },
     "execution_count": 7,
     "metadata": {},
     "output_type": "execute_result"
    }
   ],
   "source": [
    "## not Equal to !=\n",
    "str1 !=  str2"
   ]
  },
  {
   "cell_type": "code",
   "execution_count": 9,
   "id": "02cbb183",
   "metadata": {},
   "outputs": [
    {
     "data": {
      "text/plain": [
       "True"
      ]
     },
     "execution_count": 9,
     "metadata": {},
     "output_type": "execute_result"
    }
   ],
   "source": [
    "str3 = \"Vishal\"\n",
    "str4 = \"vishal\"\n",
    "\n",
    "str3!=str4"
   ]
  },
  {
   "cell_type": "code",
   "execution_count": null,
   "id": "1e9613a5",
   "metadata": {},
   "outputs": [
    {
     "data": {
      "text/plain": [
       "False"
      ]
     },
     "execution_count": 10,
     "metadata": {},
     "output_type": "execute_result"
    }
   ],
   "source": [
    "# greater than >\n",
    "num1 = 45\n",
    "num2 = 55\n",
    "\n",
    "num1> num2"
   ]
  },
  {
   "cell_type": "code",
   "execution_count": 11,
   "id": "7295b6b4",
   "metadata": {},
   "outputs": [
    {
     "name": "stdout",
     "output_type": "stream",
     "text": [
      "True\n"
     ]
    }
   ],
   "source": [
    "#less than <\n",
    "print(num1<num2)"
   ]
  },
  {
   "cell_type": "code",
   "execution_count": 12,
   "id": "1349fe6c",
   "metadata": {},
   "outputs": [
    {
     "name": "stdout",
     "output_type": "stream",
     "text": [
      "True\n"
     ]
    }
   ],
   "source": [
    "#greater than or equal to\n",
    "num1 = 45\n",
    "num2 = 45\n",
    "\n",
    "print(num1>=num2)"
   ]
  },
  {
   "cell_type": "code",
   "execution_count": 13,
   "id": "36bf8ce1",
   "metadata": {},
   "outputs": [
    {
     "name": "stdout",
     "output_type": "stream",
     "text": [
      "True\n"
     ]
    }
   ],
   "source": [
    "# less than or equal to\n",
    "num1 =44\n",
    "num2 =45\n",
    "print(num1<=num2)"
   ]
  },
  {
   "cell_type": "markdown",
   "id": "4aca77bc",
   "metadata": {},
   "source": [
    "Logical Operators\n"
   ]
  },
  {
   "cell_type": "code",
   "execution_count": 15,
   "id": "946c78cd",
   "metadata": {},
   "outputs": [
    {
     "name": "stdout",
     "output_type": "stream",
     "text": [
      "True\n"
     ]
    }
   ],
   "source": [
    "# AND, OR, NOT\n",
    "X=True\n",
    "Y=True\n",
    "\n",
    "result = X and Y\n",
    "print(result)"
   ]
  },
  {
   "cell_type": "code",
   "execution_count": 16,
   "id": "fc1a6217",
   "metadata": {},
   "outputs": [
    {
     "name": "stdout",
     "output_type": "stream",
     "text": [
      "False\n"
     ]
    }
   ],
   "source": [
    "X=False\n",
    "Y=True\n",
    "\n",
    "result = X and Y\n",
    "print(result)"
   ]
  },
  {
   "cell_type": "code",
   "execution_count": 17,
   "id": "be95c538",
   "metadata": {},
   "outputs": [
    {
     "name": "stdout",
     "output_type": "stream",
     "text": [
      "False\n"
     ]
    }
   ],
   "source": [
    "#OR\n",
    "X=False\n",
    "Y= False\n",
    "\n",
    "result= X or Y\n",
    "print(result)"
   ]
  },
  {
   "cell_type": "code",
   "execution_count": 19,
   "id": "16544a4e",
   "metadata": {},
   "outputs": [
    {
     "data": {
      "text/plain": [
       "True"
      ]
     },
     "execution_count": 19,
     "metadata": {},
     "output_type": "execute_result"
    }
   ],
   "source": [
    "# NOT operator\n",
    "X = False\n",
    "not X"
   ]
  }
 ],
 "metadata": {
  "kernelspec": {
   "display_name": "base",
   "language": "python",
   "name": "python3"
  },
  "language_info": {
   "codemirror_mode": {
    "name": "ipython",
    "version": 3
   },
   "file_extension": ".py",
   "mimetype": "text/x-python",
   "name": "python",
   "nbconvert_exporter": "python",
   "pygments_lexer": "ipython3",
   "version": "3.12.7"
  }
 },
 "nbformat": 4,
 "nbformat_minor": 5
}
