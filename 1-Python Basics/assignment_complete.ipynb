{
 "cells": [
  {
   "cell_type": "markdown",
   "metadata": {},
   "source": [
    "# Lesson 1.2: Python Basics\n",
    "## Topics Covered:\n",
    "- Syntax and Semantics\n",
    "- Variables and Data Types\n",
    "- Basic Operators (Arithmetic, Comparison, Logical)\n"
   ]
  },
  {
   "cell_type": "markdown",
   "metadata": {},
   "source": [
    "## 1. Syntax and Semantics\n",
    "\n",
    "**Question 1:** Write a Python program to print \"Hello, World!\"."
   ]
  },
  {
   "cell_type": "code",
   "execution_count": 2,
   "metadata": {},
   "outputs": [
    {
     "name": "stdout",
     "output_type": "stream",
     "text": [
      "Hello World!\n"
     ]
    }
   ],
   "source": [
    "print(\"Hello World!\")"
   ]
  },
  {
   "cell_type": "markdown",
   "metadata": {},
   "source": [
    "**Question 2:** Write a Python program that takes a user input and prints it."
   ]
  },
  {
   "cell_type": "code",
   "execution_count": 3,
   "metadata": {},
   "outputs": [
    {
     "name": "stdout",
     "output_type": "stream",
     "text": [
      "hey vishal\n"
     ]
    }
   ],
   "source": [
    "var = input(\"enter something?\")\n",
    "print(var)"
   ]
  },
  {
   "cell_type": "code",
   "execution_count": null,
   "metadata": {},
   "outputs": [],
   "source": []
  },
  {
   "cell_type": "markdown",
   "metadata": {},
   "source": [
    "**Question 3:** Write a Python program to check if a number is positive, negative, or zero."
   ]
  },
  {
   "cell_type": "code",
   "execution_count": 4,
   "metadata": {},
   "outputs": [
    {
     "name": "stdout",
     "output_type": "stream",
     "text": [
      "number is negative\n"
     ]
    }
   ],
   "source": [
    "num = float(input(\"Enter number: \"))\n",
    "if num>0:\n",
    "    print(\"Number is Positive\")\n",
    "elif num == 0:\n",
    "    print(\"number is Zero\")\n",
    "else:\n",
    "    print(\"number is negative\")"
   ]
  },
  {
   "cell_type": "markdown",
   "metadata": {},
   "source": [
    "**Question 4:** Write a Python program to find the largest of three numbers."
   ]
  },
  {
   "cell_type": "code",
   "execution_count": 7,
   "metadata": {},
   "outputs": [
    {
     "name": "stdout",
     "output_type": "stream",
     "text": [
      "num3 is greater 6000.0\n"
     ]
    }
   ],
   "source": [
    "num1 = float(input(\"Enter num 1: \"))\n",
    "num2 = float(input(\"Enter num 2: \"))\n",
    "num3 = float(input(\"Enter num 3: \"))\n",
    "\n",
    "if (num1>num2) and (num1>num3):\n",
    "    print(\"num1 is greater : \", num1)\n",
    "elif(num2>num1) and (num2>num3):\n",
    "    print(\"num2 is greater\", num2)\n",
    "else:\n",
    "    print(\"num3 is greater\", num3)"
   ]
  },
  {
   "cell_type": "markdown",
   "metadata": {},
   "source": [
    "**Question 5:** Write a Python program to calculate the factorial of a number."
   ]
  },
  {
   "cell_type": "code",
   "execution_count": 7,
   "metadata": {},
   "outputs": [
    {
     "name": "stdout",
     "output_type": "stream",
     "text": [
      "3628800\n"
     ]
    }
   ],
   "source": [
    "n=10\n",
    "fact=1\n",
    "for i in range(1, 11):\n",
    "    fact=fact*i\n",
    "    i=i+1\n",
    "\n",
    "print(fact)\n"
   ]
  },
  {
   "cell_type": "markdown",
   "metadata": {},
   "source": [
    "## 2. Variables and Data Types\n",
    "\n",
    "**Question 6:** Create variables of different data types: integer, float, string, and boolean. Print their values and types."
   ]
  },
  {
   "cell_type": "code",
   "execution_count": 8,
   "metadata": {},
   "outputs": [
    {
     "name": "stdout",
     "output_type": "stream",
     "text": [
      "10 <class 'int'>\n",
      "14.653 <class 'float'>\n",
      "This is string varriablee <class 'str'>\n",
      "True <class 'bool'>\n"
     ]
    }
   ],
   "source": [
    "var_int = 10\n",
    "var_float = 14.653\n",
    "var_str = \"This is string varriablee\"\n",
    "is_teacher = True\n",
    "\n",
    "print(var_int, type(var_int))\n",
    "print(var_float, type(var_float))\n",
    "print(var_str, type(var_str))\n",
    "print(is_teacher, type(is_teacher))"
   ]
  },
  {
   "cell_type": "markdown",
   "metadata": {},
   "source": [
    "**Question 7:** Write a Python program to swap the values of two variables."
   ]
  },
  {
   "cell_type": "code",
   "execution_count": 1,
   "metadata": {},
   "outputs": [
    {
     "name": "stdout",
     "output_type": "stream",
     "text": [
      "a:6 and b:10\n",
      "a:10 and b:6\n"
     ]
    }
   ],
   "source": [
    "a, b = 6, 10\n",
    "print(f\"a:{a} and b:{b}\")\n",
    "\n",
    "#swapping\n",
    "a, b=b, a\n",
    "print(f\"a:{a} and b:{b}\")"
   ]
  },
  {
   "cell_type": "markdown",
   "metadata": {},
   "source": [
    "**Question 8:** Write a Python program to convert Celsius to Fahrenheit."
   ]
  },
  {
   "cell_type": "code",
   "execution_count": 13,
   "metadata": {},
   "outputs": [
    {
     "name": "stdout",
     "output_type": "stream",
     "text": [
      "Converted FArhrenheit is : 109.4\n"
     ]
    }
   ],
   "source": [
    "c = float(input())\n",
    "f = (c*(9/5))+32\n",
    "print(\"Converted FArhrenheit is :\", f)"
   ]
  },
  {
   "cell_type": "markdown",
   "metadata": {},
   "source": [
    "**Question 9:** Write a Python program to concatenate two strings."
   ]
  },
  {
   "cell_type": "code",
   "execution_count": 14,
   "metadata": {},
   "outputs": [
    {
     "name": "stdout",
     "output_type": "stream",
     "text": [
      "Hello  World!\n"
     ]
    }
   ],
   "source": [
    "name = \"Hello\"\n",
    "Name = \"World!\"\n",
    "\n",
    "print(name, \"\" , Name)"
   ]
  },
  {
   "cell_type": "markdown",
   "metadata": {},
   "source": [
    "**Question 10:** Write a Python program to check if a variable is of a specific data type."
   ]
  },
  {
   "cell_type": "code",
   "execution_count": 2,
   "metadata": {},
   "outputs": [
    {
     "name": "stdout",
     "output_type": "stream",
     "text": [
      "Vishal <class 'str'>\n",
      "19.334 <class 'float'>\n",
      "7 <class 'int'>\n"
     ]
    }
   ],
   "source": [
    "var1 = \"Vishal\"\n",
    "var2 = 19.334\n",
    "var3 = 7\n",
    "\n",
    "print(var1, type(var1))\n",
    "print(var2, type(var2))\n",
    "print(var3, type(var3))"
   ]
  },
  {
   "cell_type": "markdown",
   "metadata": {},
   "source": [
    "## 3. Basic Operators (Arithmetic, Comparison, Logical)\n",
    "\n",
    "**Question 11:** Write a Python program to perform arithmetic operations: addition, subtraction, multiplication, and division."
   ]
  },
  {
   "cell_type": "code",
   "execution_count": 15,
   "metadata": {},
   "outputs": [
    {
     "name": "stdout",
     "output_type": "stream",
     "text": [
      "Addition is :  15\n",
      "Subtraction is:  5\n",
      "Multiploication is : 50\n",
      "Dvision is : 2.0\n"
     ]
    }
   ],
   "source": [
    "a = 10\n",
    "b = 5\n",
    "\n",
    "add = a+b\n",
    "sub = a-b\n",
    "mul = a*b\n",
    "div = a/b\n",
    "\n",
    "print(\"Addition is : \", add)\n",
    "print(\"Subtraction is: \", sub)\n",
    "print(\"Multiploication is :\", mul)\n",
    "print(\"Dvision is :\", div)\n"
   ]
  },
  {
   "cell_type": "markdown",
   "metadata": {},
   "source": [
    "**Question 12:** Write a Python program to demonstrate comparison operators: equal to, not equal to, greater than, less than."
   ]
  },
  {
   "cell_type": "code",
   "execution_count": null,
   "metadata": {},
   "outputs": [
    {
     "name": "stdout",
     "output_type": "stream",
     "text": [
      "num1 is equal to num2\n"
     ]
    }
   ],
   "source": [
    "num1 = float(input())\n",
    "num2 = float(input())\n",
    "\n",
    "if num1 == num2:\n",
    "    print(\"num1 is equal to num2\")\n",
    "elif num1 > num2:\n",
    "    print(\"num1 is graeter than num2\")\n",
    "elif num1 < num2:\n",
    "    print(\"num1 is less than num2\")\n",
    "elif num1 != num2:\n",
    "    print(\"Not equal to\")"
   ]
  },
  {
   "cell_type": "markdown",
   "metadata": {},
   "source": [
    "**Question 13:** Write a Python program to demonstrate logical operators: and, or, not."
   ]
  },
  {
   "cell_type": "code",
   "execution_count": 16,
   "metadata": {},
   "outputs": [
    {
     "name": "stdout",
     "output_type": "stream",
     "text": [
      "OR operation succeful\n"
     ]
    }
   ],
   "source": [
    "num= 10\n",
    "num2= 11\n",
    "\n",
    "num3=40\n",
    "num4=40\n",
    "if num==num2 or num3==num4:\n",
    "    print(\"OR operation succeful\")"
   ]
  },
  {
   "cell_type": "markdown",
   "metadata": {},
   "source": [
    "**Question 14:** Write a Python program to calculate the square of a number."
   ]
  },
  {
   "cell_type": "code",
   "execution_count": 18,
   "metadata": {},
   "outputs": [
    {
     "name": "stdout",
     "output_type": "stream",
     "text": [
      "49\n"
     ]
    }
   ],
   "source": [
    "num = int(input())\n",
    "\n",
    "square = num**2\n",
    "print(square)"
   ]
  },
  {
   "cell_type": "markdown",
   "metadata": {},
   "source": [
    "**Question 15:** Write a Python program to check if a number is even or odd."
   ]
  },
  {
   "cell_type": "code",
   "execution_count": 21,
   "metadata": {},
   "outputs": [
    {
     "name": "stdout",
     "output_type": "stream",
     "text": [
      "Given num is Even 48\n"
     ]
    }
   ],
   "source": [
    "num = int(input())\n",
    "if num%2==0:\n",
    "    print(\"Given num is Even\", num)\n",
    "else:\n",
    "    print(num, \"Odd number\")"
   ]
  },
  {
   "cell_type": "markdown",
   "metadata": {},
   "source": [
    "**Question 16:** Write a Python program to find the sum of the first n natural numbers."
   ]
  },
  {
   "cell_type": "code",
   "execution_count": 20,
   "metadata": {},
   "outputs": [
    {
     "name": "stdout",
     "output_type": "stream",
     "text": [
      "21\n"
     ]
    }
   ],
   "source": [
    "n= 6\n",
    "sum=0\n",
    "count=1\n",
    "\n",
    "for i in range(1, n+1):\n",
    "    sum=sum+i\n",
    "    count=count+1\n",
    "\n",
    "print(sum)"
   ]
  },
  {
   "cell_type": "markdown",
   "metadata": {},
   "source": [
    "**Question 17:** Write a Python program to check if a year is a leap year."
   ]
  },
  {
   "cell_type": "code",
   "execution_count": 23,
   "metadata": {},
   "outputs": [
    {
     "name": "stdout",
     "output_type": "stream",
     "text": [
      "2024 Leap year\n"
     ]
    }
   ],
   "source": [
    "year = int(input())\n",
    "\n",
    "if year%4==0:\n",
    "    if year%100==0:\n",
    "        if year%400==0:\n",
    "            print(year, \"This is leap year\")\n",
    "        else:\n",
    "            print(year, \"Not leap year\")\n",
    "    else:\n",
    "        print(year, \"Leap year\")\n",
    "else:\n",
    "    print(year, \"Not leap year\")"
   ]
  },
  {
   "cell_type": "markdown",
   "metadata": {},
   "source": [
    "**Question 18:** Write a Python program to reverse a string."
   ]
  },
  {
   "cell_type": "code",
   "execution_count": 25,
   "metadata": {},
   "outputs": [
    {
     "name": "stdout",
     "output_type": "stream",
     "text": [
      "l\n",
      "a\n",
      "h\n",
      "s\n",
      "i\n",
      "V\n"
     ]
    }
   ],
   "source": [
    "str=\"Vishal\"\n",
    "\n",
    "for i in str[::-1]:\n",
    "    print(i)"
   ]
  },
  {
   "cell_type": "markdown",
   "metadata": {},
   "source": [
    "**Question 19:** Write a Python program to check if a string is a palindrome."
   ]
  },
  {
   "cell_type": "code",
   "execution_count": 34,
   "metadata": {},
   "outputs": [
    {
     "name": "stdout",
     "output_type": "stream",
     "text": [
      "Not\n"
     ]
    }
   ],
   "source": [
    "str= \"123214\"\n",
    "\n",
    "rev = str[::-1]\n",
    "if str == rev:\n",
    "    print(\"Palindrone\")\n",
    "else:\n",
    "    print(\"Not\")"
   ]
  },
  {
   "cell_type": "markdown",
   "metadata": {},
   "source": [
    "**Question 20:** Write a Python program to sort a list of numbers in ascending order."
   ]
  },
  {
   "cell_type": "code",
   "execution_count": 39,
   "metadata": {},
   "outputs": [
    {
     "name": "stdout",
     "output_type": "stream",
     "text": [
      "[2, 4, 5, 6, 7, 76, 332]\n"
     ]
    }
   ],
   "source": [
    "num = [6,2,7,332,5,76,4]\n",
    "print(sorted(num))"
   ]
  }
 ],
 "metadata": {
  "kernelspec": {
   "display_name": "base",
   "language": "python",
   "name": "python3"
  },
  "language_info": {
   "codemirror_mode": {
    "name": "ipython",
    "version": 3
   },
   "file_extension": ".py",
   "mimetype": "text/x-python",
   "name": "python",
   "nbconvert_exporter": "python",
   "pygments_lexer": "ipython3",
   "version": "3.12.7"
  }
 },
 "nbformat": 4,
 "nbformat_minor": 4
}
