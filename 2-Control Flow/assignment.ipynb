{
 "cells": [
  {
   "cell_type": "markdown",
   "id": "3d75c778",
   "metadata": {},
   "source": [
    "# Module 2: Control Flow Assignments\n",
    "## Lesson 2.1: Conditional Statements\n"
   ]
  },
  {
   "cell_type": "code",
   "execution_count": 3,
   "id": "0bc13d61",
   "metadata": {},
   "outputs": [
    {
     "name": "stdout",
     "output_type": "stream",
     "text": [
      "Number is zero or negative\n"
     ]
    }
   ],
   "source": [
    "### Assignment 1: Simple if Statement\n",
    "####Write a program that asks the user to input a number and prints whether the number is positive.\n",
    "num = float(input(\"Enter a number:\"))\n",
    "\n",
    "if num>0:\n",
    "    print(\"number is positive\")\n",
    "else:\n",
    "    print(\"Number is zero or negative\")"
   ]
  },
  {
   "cell_type": "code",
   "execution_count": 12,
   "id": "fa4ab488",
   "metadata": {},
   "outputs": [
    {
     "name": "stdout",
     "output_type": "stream",
     "text": [
      "-42.0 is negative.\n"
     ]
    }
   ],
   "source": [
    "### Assignment 2: if-else Statement\n",
    "\n",
    "### Write a program that asks the user to input a number and prints whether the number is positive or negative.\n",
    "num = float(input(\"Enter a number: \"))\n",
    "if num>0:\n",
    "    print(f\"{num} is positive.\")\n",
    "else:\n",
    "    print(f\"{num} is negative.\")"
   ]
  },
  {
   "cell_type": "code",
   "execution_count": 10,
   "id": "582db3f9",
   "metadata": {},
   "outputs": [
    {
     "name": "stdout",
     "output_type": "stream",
     "text": [
      "0.32 is positive.\n"
     ]
    }
   ],
   "source": [
    "### Assignment 3: if-elif-else Statement\n",
    "\n",
    "### Write a program that asks the user to input a number and prints whether the number is positive, negative, or zero.\n",
    "num = float(input(\"Enter a number: \"))\n",
    "if num>0:\n",
    "    print(f\"{num} is positive.\")\n",
    "elif num<0:\n",
    "    print(f\"{num} is negative.\")\n",
    "else:\n",
    "    print(\"Number is zero\")"
   ]
  },
  {
   "cell_type": "code",
   "execution_count": 15,
   "id": "4d65c64a",
   "metadata": {},
   "outputs": [
    {
     "name": "stdout",
     "output_type": "stream",
     "text": [
      "-43 is negative\n"
     ]
    }
   ],
   "source": [
    "### Assignment 4: Nested if Statement\n",
    "\n",
    "### Write a program that asks the user to input a number and prints whether the number is positive and even, positive and odd, or negative.\n",
    "num = int(input(\"enter a number: \"))\n",
    "if num>0:\n",
    "    if num % 2 == 0:\n",
    "        print(f\"{num} is Even and positive\")\n",
    "    else:\n",
    "        print(f\"{num} is  odd and positive\")\n",
    "else:\n",
    "    print(f\"{num} is negative\")"
   ]
  },
  {
   "cell_type": "markdown",
   "id": "934a9546",
   "metadata": {},
   "source": [
    "## Lesson 2.2: Loops"
   ]
  },
  {
   "cell_type": "code",
   "execution_count": 17,
   "id": "42bb0c1f",
   "metadata": {},
   "outputs": [
    {
     "name": "stdout",
     "output_type": "stream",
     "text": [
      "1\n",
      "2\n",
      "3\n",
      "4\n",
      "5\n",
      "6\n",
      "7\n",
      "8\n",
      "9\n",
      "10\n"
     ]
    }
   ],
   "source": [
    "### Assignment 5: for Loop\n",
    "\n",
    "### Write a program that prints all the numbers from 1 to 10 using a for loop.\n",
    "for i in range(1, 11):\n",
    "    print(i)"
   ]
  },
  {
   "cell_type": "code",
   "execution_count": 20,
   "id": "4134093a",
   "metadata": {},
   "outputs": [
    {
     "name": "stdout",
     "output_type": "stream",
     "text": [
      "1\n",
      "2\n",
      "3\n",
      "4\n",
      "5\n",
      "6\n",
      "7\n",
      "8\n",
      "9\n",
      "10\n"
     ]
    }
   ],
   "source": [
    "### Assignment 6: while Loop\n",
    "\n",
    "### Write a program that prints all the numbers from 1 to 10 using a while loop.\n",
    "count = 1\n",
    "while count<11:\n",
    "    print(count)\n",
    "    count=count+1\n"
   ]
  },
  {
   "cell_type": "code",
   "execution_count": 3,
   "id": "1dc41fac",
   "metadata": {},
   "outputs": [
    {
     "name": "stdout",
     "output_type": "stream",
     "text": [
      "* * * * * \n",
      "* * * * * \n",
      "* * * * * \n",
      "* * * * * \n",
      "* * * * * \n"
     ]
    }
   ],
   "source": [
    "### Assignment 7: Nested Loops\n",
    "\n",
    "### Write a program that prints a 5x5 grid of asterisks (*) using nested loops.\n",
    "for i in range(5):\n",
    "    for j in range(5):\n",
    "        print(\"*\", end=\" \")\n",
    "    print()"
   ]
  },
  {
   "cell_type": "code",
   "execution_count": null,
   "id": "70ce7c73",
   "metadata": {},
   "outputs": [
    {
     "name": "stdout",
     "output_type": "stream",
     "text": [
      "1\n",
      "2\n",
      "3\n",
      "4\n",
      "5\n",
      "6\n",
      "7\n",
      "8\n"
     ]
    }
   ],
   "source": [
    "### Assignment 8: break Statement\n",
    "\n",
    "### Write a program that asks the user to input numbers until they input 0. The program should print the sum of all the input numbers.\n",
    "\n",
    "num = int(input())\n",
    "sum=0\n",
    "for i in range(1, num+1):\n",
    "    if i==0:\n",
    "        break   \n",
    "    print(i)"
   ]
  },
  {
   "cell_type": "code",
   "execution_count": 3,
   "id": "c243171c",
   "metadata": {},
   "outputs": [
    {
     "name": "stdout",
     "output_type": "stream",
     "text": [
      "1\n",
      "2\n",
      "3\n",
      "4\n",
      "6\n",
      "7\n",
      "8\n",
      "9\n",
      "10\n"
     ]
    }
   ],
   "source": [
    "### Assignment 9: continue Statement\n",
    "\n",
    "## Write a program that prints all the numbers from 1 to 10 except 5 using a for loop and continue statement.\n",
    "for i in range(1,11):\n",
    "    if i == 5:\n",
    "        continue\n",
    "    print(i)"
   ]
  },
  {
   "cell_type": "code",
   "execution_count": 4,
   "id": "c3af7ce2",
   "metadata": {},
   "outputs": [],
   "source": [
    "### Assignment 10: pass Statement\n",
    "\n",
    "## Write a program that defines an empty function using the pass statement.\n",
    "\n",
    "def empy():\n",
    "    pass"
   ]
  },
  {
   "cell_type": "code",
   "execution_count": 11,
   "id": "f63bc687",
   "metadata": {},
   "outputs": [
    {
     "name": "stdout",
     "output_type": "stream",
     "text": [
      "2\n",
      "4\n",
      "6\n",
      "8\n",
      "10\n",
      "12\n"
     ]
    }
   ],
   "source": [
    "### Assignment 11: Combining Loops and Conditionals\n",
    "\n",
    "## WAP that asks the user to input a number and prints all the even numbers from 1 to that number using a for loop.\n",
    "number = int(input(\"Enter a number: \"))\n",
    "\n",
    "for i in range(1,number+1):\n",
    "    if i%2==0:\n",
    "        print(i)"
   ]
  },
  {
   "cell_type": "code",
   "execution_count": null,
   "id": "14218e43",
   "metadata": {},
   "outputs": [
    {
     "name": "stdout",
     "output_type": "stream",
     "text": [
      "120\n"
     ]
    }
   ],
   "source": [
    "### Assignment 12: Factorial Calculation\n",
    "\n",
    "## WAP that calculates the factorial of a number input by the user using a while loop.\n",
    "\n",
    "num = 1\n",
    "fact = 1 ##store factorial\n",
    "\n",
    "while num <= 5:\n",
    "    fact=fact*num\n",
    "    num+=1\n",
    "\n",
    "print(fact)    "
   ]
  },
  {
   "cell_type": "code",
   "execution_count": 4,
   "id": "037a337f",
   "metadata": {},
   "outputs": [
    {
     "name": "stdout",
     "output_type": "stream",
     "text": [
      "15\n"
     ]
    }
   ],
   "source": [
    "### Assignment 13: Sum of Digits\n",
    "\n",
    "## Write a program that calculates the sum of the digits of a number input by the user using a while loop.\n",
    "num = int(input())\n",
    "sum =0\n",
    "count = 1\n",
    "\n",
    "while count<=num:\n",
    "    sum = sum+count\n",
    "    count+=1\n",
    "print(sum)"
   ]
  },
  {
   "cell_type": "code",
   "execution_count": 8,
   "id": "6f7e87f4",
   "metadata": {},
   "outputs": [
    {
     "name": "stdout",
     "output_type": "stream",
     "text": [
      "10 is not a prime number.\n"
     ]
    }
   ],
   "source": [
    "### Assignment 14: Prime Number Check\n",
    "\n",
    "## Write a program that checks if a number input by the user is a prime number using a for loop.\n",
    "num = int(input(\"Enter a number: \"))\n",
    "is_prime = True\n",
    "if num <= 1:\n",
    "    is_prime = False\n",
    "else:\n",
    "    for i in range(2,int(num**0.5)+1):\n",
    "        if num%i == 0:\n",
    "            is_prime = False\n",
    "            break\n",
    "if is_prime:\n",
    "    print(f\"{num} is a prime number.\")\n",
    "else:\n",
    "    print(f\"{num} is not a prime number.\")"
   ]
  },
  {
   "cell_type": "code",
   "execution_count": 11,
   "id": "1df7b660",
   "metadata": {},
   "outputs": [
    {
     "name": "stdout",
     "output_type": "stream",
     "text": [
      "0\n",
      "1\n",
      "1\n",
      "2\n",
      "3\n",
      "5\n",
      "8\n",
      "13\n"
     ]
    }
   ],
   "source": [
    "### Assignment 15: Fibonacci Sequence\n",
    "\n",
    "## Write a program that prints the first n Fibonacci numbers, where n is input by the user.\n",
    "n = int(input(\"Enter a number: \"))\n",
    "a, b=0, 1\n",
    "count = 0\n",
    "while count<n:\n",
    "    print(a)\n",
    "    a, b= b, a+b\n",
    "    count+=1"
   ]
  }
 ],
 "metadata": {
  "kernelspec": {
   "display_name": "base",
   "language": "python",
   "name": "python3"
  },
  "language_info": {
   "codemirror_mode": {
    "name": "ipython",
    "version": 3
   },
   "file_extension": ".py",
   "mimetype": "text/x-python",
   "name": "python",
   "nbconvert_exporter": "python",
   "pygments_lexer": "ipython3",
   "version": "3.12.7"
  }
 },
 "nbformat": 4,
 "nbformat_minor": 5
}
