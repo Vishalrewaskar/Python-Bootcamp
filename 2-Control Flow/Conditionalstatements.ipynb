{
 "cells": [
  {
   "cell_type": "markdown",
   "id": "be8f39bf",
   "metadata": {},
   "source": [
    "Conditional Statements (if, elif, else)"
   ]
  },
  {
   "cell_type": "code",
   "execution_count": 1,
   "id": "a6f5b13b",
   "metadata": {},
   "outputs": [
    {
     "name": "stdout",
     "output_type": "stream",
     "text": [
      "you are allowed to vote in election\n"
     ]
    }
   ],
   "source": [
    "##if statements\n",
    "age =20\n",
    "if age>=18:\n",
    "    print(\"you are allowed to vote in election\")"
   ]
  },
  {
   "cell_type": "code",
   "execution_count": 2,
   "id": "8564f31b",
   "metadata": {},
   "outputs": [
    {
     "data": {
      "text/plain": [
       "True"
      ]
     },
     "execution_count": 2,
     "metadata": {},
     "output_type": "execute_result"
    }
   ],
   "source": [
    "age>=18"
   ]
  },
  {
   "cell_type": "code",
   "execution_count": null,
   "id": "c2105209",
   "metadata": {},
   "outputs": [
    {
     "name": "stdout",
     "output_type": "stream",
     "text": [
      "Not eligible for voting\n"
     ]
    }
   ],
   "source": [
    "##else\n",
    "## The else statement executes a block of code if the condition in the if statement is False.\n",
    "age = 16\n",
    "\n",
    "if age >= 18:\n",
    "    print(\"eligible for voting\")\n",
    "else:\n",
    "    print(\"Not eligible for voting\")"
   ]
  },
  {
   "cell_type": "code",
   "execution_count": 5,
   "id": "8aec7563",
   "metadata": {},
   "outputs": [
    {
     "name": "stdout",
     "output_type": "stream",
     "text": [
      "Your are adult\n"
     ]
    }
   ],
   "source": [
    "##elif\n",
    "## The elif statement allows you to check multiple conditions. It stands for \"else if\"\n",
    "age = 45\n",
    "\n",
    "if age<13:\n",
    "    print(\"you are a child\")\n",
    "elif age<18:\n",
    "    print(\"your a teenager\")\n",
    "else:\n",
    "    print(\"Your are adult\")"
   ]
  },
  {
   "cell_type": "code",
   "execution_count": 9,
   "id": "bd834640",
   "metadata": {},
   "outputs": [
    {
     "name": "stdout",
     "output_type": "stream",
     "text": [
      "number is positive\n",
      "number is odd\n"
     ]
    }
   ],
   "source": [
    "## Nested conditional statement\n",
    "# You can place one or more if, elif, or else statements inside another if, elif, or else statement to create nested conditional statements.\n",
    "\n",
    "## number even, odd , negative\n",
    "\n",
    "num = int(input(\"Enter a number\"))\n",
    "\n",
    "if num>0:\n",
    "    print(\"number is positive\")\n",
    "    if num%2==0:\n",
    "        print(\"number is even\")\n",
    "    else:\n",
    "        print(\"number is odd\")\n",
    "else:\n",
    "    print(\"number is zero or negative\")"
   ]
  },
  {
   "cell_type": "code",
   "execution_count": 4,
   "id": "4ca9d0df",
   "metadata": {},
   "outputs": [
    {
     "name": "stdout",
     "output_type": "stream",
     "text": [
      "1806 is not leap year\n"
     ]
    }
   ],
   "source": [
    "##Example\n",
    "## Determine if a year is a leap year using nested condition statement\n",
    "yr = int(input(\"Enter a year\"))\n",
    "\n",
    "if yr%4==0:\n",
    "    if yr%100==0:\n",
    "        if yr%400==0:\n",
    "            print(f\"{yr} is leap year\")\n",
    "        else:\n",
    "            print(f\"{yr} is not leap year\")\n",
    "    print(f\"{yr} is leap year\")\n",
    "else:\n",
    "    print(f\"{yr} is not leap year\")"
   ]
  },
  {
   "cell_type": "code",
   "execution_count": 10,
   "id": "1c21cb37",
   "metadata": {},
   "outputs": [
    {
     "name": "stdout",
     "output_type": "stream",
     "text": [
      "invalid operation '{operation}' \n"
     ]
    }
   ],
   "source": [
    "##Assignment\n",
    "## Simple Calculator program\n",
    "# Take user input\n",
    "num1 = float(input(\"Enter a number\"))\n",
    "num2 = float(input(\"Enter second number\"))\n",
    "operation = input(\"Enter operation(+,-,*,/): \")\n",
    "\n",
    "if operation ==\"+\":\n",
    "    print(f\"Addition is : {num1 + num2}\")\n",
    "elif operation == \"-\":\n",
    "    print(f\"Subtraction is {num1 - num2}\")\n",
    "elif operation == \"*\":\n",
    "    print(f\"Multiplication is: {num1 * num2} \")\n",
    "elif operation == \"/\":\n",
    "    print(f\"Division is {num1/num2}\")\n",
    "else:\n",
    "    print(\"invalid operation '{operation}' \")"
   ]
  },
  {
   "cell_type": "code",
   "execution_count": 14,
   "id": "8da3cf9e",
   "metadata": {},
   "outputs": [
    {
     "name": "stdout",
     "output_type": "stream",
     "text": [
      "Ticket price for 34 is 100 rs\n"
     ]
    }
   ],
   "source": [
    "### Determine the ticket price based on age and whether the person is a student.\n",
    "# Ticket pricing based on age and student status\n",
    "age = int(input(\"Enter the age: \"))\n",
    "std_status = input(\"Your are a student (y/n)\")\n",
    "\n",
    "if age<18 and std_status == \"y\":\n",
    "    print(f\"Ticket price for {age} and students is 25 rs\")\n",
    "elif age<26 and std_status == \"y\":\n",
    "    print(f\"Ticket price for {age} and students is 50 rs\")\n",
    "elif age>18 and std_status == \"n\":\n",
    "    print(f\"Ticket price for {age} is 100 rs\")\n"
   ]
  },
  {
   "cell_type": "code",
   "execution_count": 3,
   "id": "7ae4ed12",
   "metadata": {},
   "outputs": [
    {
     "name": "stdout",
     "output_type": "stream",
     "text": [
      "Ticket price:  $25\n"
     ]
    }
   ],
   "source": [
    "## code by krish\n",
    "age = int(input(\"Enter your  age: \"))\n",
    "is_student = input(\"are you a student (y/n)\").lower()\n",
    "\n",
    "if age<5:\n",
    "    price = \"Free\"\n",
    "elif age<= 12:\n",
    "    price = \"$10\"\n",
    "elif age<=17:\n",
    "    if is_student == \"y\":\n",
    "        price = \"$12\"\n",
    "    else:\n",
    "        price = \"$15\"\n",
    "elif age<= 64:\n",
    "    if is_student == \"y\":\n",
    "        price = \"$18\"\n",
    "    else:\n",
    "        price = \"$25\"\n",
    "else:\n",
    "    price = \"$20\"\n",
    "\n",
    "print(\"Ticket price: \", price)"
   ]
  },
  {
   "cell_type": "markdown",
   "id": "0b0a42fa",
   "metadata": {},
   "source": [
    "Complex Example 3: Employee Bonus Calculation\n",
    "- Calculate an employee's bonus based on their performance rating and years of service.\n",
    "\n"
   ]
  },
  {
   "cell_type": "code",
   "execution_count": null,
   "id": "84540050",
   "metadata": {},
   "outputs": [
    {
     "name": "stdout",
     "output_type": "stream",
     "text": [
      "Based on yr and performance, bonus is : 2400.0 $\n"
     ]
    }
   ],
   "source": [
    "## code by me\n",
    "yr_of_service = input(\"Enter thier year of service: \")\n",
    "perf_rating = float(input(\"Enter performance rating (1.0, 4.0, 5.0 ): \"))\n",
    "\n",
    "if yr_of_service <= \"1\":\n",
    "    print(f\"Based on yr and performance, bonus is : {int(yr_of_service)*float(perf_rating)*100} $\")\n",
    "elif yr_of_service <= \"5\":\n",
    "    print(f\"Based on yr and performance, bonus is : {int(yr_of_service)*float(perf_rating)*100} $\")\n",
    "else:\n",
    "    print(f\"Based on yr and performance, bonus is : {int(yr_of_service)*float(perf_rating)*100} $\")"
   ]
  },
  {
   "cell_type": "code",
   "execution_count": 13,
   "id": "b83ac075",
   "metadata": {},
   "outputs": [
    {
     "ename": "TypeError",
     "evalue": "'>' not supported between instances of 'str' and 'int'",
     "output_type": "error",
     "traceback": [
      "\u001b[1;31m---------------------------------------------------------------------------\u001b[0m",
      "\u001b[1;31mTypeError\u001b[0m                                 Traceback (most recent call last)",
      "Cell \u001b[1;32mIn[13], line 14\u001b[0m\n\u001b[0;32m     11\u001b[0m         bonus_percentage \u001b[38;5;241m=\u001b[39m \u001b[38;5;241m10\u001b[39m\n\u001b[0;32m     13\u001b[0m \u001b[38;5;28;01melif\u001b[39;00m performanace_rating \u001b[38;5;241m>\u001b[39m\u001b[38;5;241m=\u001b[39m\u001b[38;5;241m3.5\u001b[39m:\n\u001b[1;32m---> 14\u001b[0m     \u001b[38;5;28;01mif\u001b[39;00m yr_of_service\u001b[38;5;241m>\u001b[39m\u001b[38;5;241m10\u001b[39m:\n\u001b[0;32m     15\u001b[0m         bonus_percentage \u001b[38;5;241m=\u001b[39m\u001b[38;5;241m15\u001b[39m\n\u001b[0;32m     16\u001b[0m     \u001b[38;5;28;01melif\u001b[39;00m years_of_service \u001b[38;5;241m>\u001b[39m \u001b[38;5;241m5\u001b[39m:\n",
      "\u001b[1;31mTypeError\u001b[0m: '>' not supported between instances of 'str' and 'int'"
     ]
    }
   ],
   "source": [
    "## code by sir\n",
    "years_of_service = int(input(\"Enter the year f services: \"))\n",
    "performanace_rating = float(input(\"Enter the performance rating(1.0 to 5.0): \"))\n",
    "\n",
    "if performanace_rating >= 4.5:\n",
    "    if years_of_service>10:\n",
    "        bonus_percentage = 20\n",
    "    elif years_of_service>5:\n",
    "        bonus_percentage = 15        \n",
    "    else:\n",
    "        bonus_percentage = 10\n",
    "\n",
    "elif performanace_rating >=3.5:\n",
    "    if yr_of_service>10:\n",
    "        bonus_percentage =15\n",
    "    elif years_of_service > 5:\n",
    "        bonus_percentage = 10\n",
    "    else:\n",
    "        bonus_percentage = 5\n",
    "else:\n",
    "    bonus_percentage = 0\n",
    "\n",
    "salary = float(input(\"Enter current salary: \"))\n",
    "bonus_amount = salary * bonus_percentage/100\n",
    "\n",
    "print(\"Bonus Amount : $ {:.2f}\".format(bonus_amount))"
   ]
  },
  {
   "cell_type": "markdown",
   "id": "fecc51ca",
   "metadata": {},
   "source": [
    "Complex Example 4: User Login System\n",
    "- A simple user login system that checks the username and password."
   ]
  },
  {
   "cell_type": "code",
   "execution_count": null,
   "id": "cb808420",
   "metadata": {},
   "outputs": [
    {
     "name": "stdout",
     "output_type": "stream",
     "text": [
      "Login succefull\n"
     ]
    }
   ],
   "source": [
    "username = \"Vishal\"\n",
    "password = \"pass123\"\n",
    "\n",
    "var1 = input(\"Enter username: \")\n",
    "var2 = input(\"Enter password: \")\n",
    "\n",
    "if var1 == username and var2== password:\n",
    "    print(\"Login succefull\")\n",
    "else:\n",
    "    print(\"Invalid credentials\")"
   ]
  },
  {
   "cell_type": "code",
   "execution_count": 5,
   "id": "2a1d978d",
   "metadata": {},
   "outputs": [
    {
     "name": "stdout",
     "output_type": "stream",
     "text": [
      "Login successful!\n"
     ]
    }
   ],
   "source": [
    "## code by  sir\n",
    "# User login system\n",
    "\n",
    "# Predefined username and password\n",
    "stored_username = \"admin\"\n",
    "stored_password = \"password123\"\n",
    "\n",
    "# Take user input\n",
    "username = input(\"Enter username: \")\n",
    "password = input(\"Enter password: \")\n",
    "\n",
    "# Check login credentials\n",
    "if username == stored_username:\n",
    "    if password == stored_password:\n",
    "        print(\"Login successful!\")\n",
    "    else:\n",
    "        print(\"Incorrect password.\")\n",
    "else:\n",
    "    print(\"Username not found.\")"
   ]
  }
 ],
 "metadata": {
  "kernelspec": {
   "display_name": "base",
   "language": "python",
   "name": "python3"
  },
  "language_info": {
   "codemirror_mode": {
    "name": "ipython",
    "version": 3
   },
   "file_extension": ".py",
   "mimetype": "text/x-python",
   "name": "python",
   "nbconvert_exporter": "python",
   "pygments_lexer": "ipython3",
   "version": "3.12.7"
  }
 },
 "nbformat": 4,
 "nbformat_minor": 5
}
