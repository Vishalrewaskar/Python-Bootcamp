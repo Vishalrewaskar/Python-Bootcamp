{
 "cells": [
  {
   "cell_type": "markdown",
   "id": "048a7276",
   "metadata": {},
   "source": [
    "## File Operation- Read And Write Files\n",
    " - File handling is a crucial part of any programming language. \n",
    " - Python provides built-in functions and methods to read from and write to files, both text and binary. \n",
    " - This lesson will cover the basics of file handling, including reading and writing text files and binary files."
   ]
  },
  {
   "cell_type": "code",
   "execution_count": 2,
   "id": "f89e1391",
   "metadata": {},
   "outputs": [
    {
     "name": "stdout",
     "output_type": "stream",
     "text": [
      "Hello How are you?\n",
      "I am good\n",
      "Krish is my name\n",
      "Welcome to the course\n"
     ]
    }
   ],
   "source": [
    "### Read a Whole File\n",
    "\n",
    "with open('example.txt','r') as file:\n",
    "    content = file.read()\n",
    "    print(content)"
   ]
  },
  {
   "cell_type": "code",
   "execution_count": null,
   "id": "f4b21988",
   "metadata": {},
   "outputs": [
    {
     "name": "stdout",
     "output_type": "stream",
     "text": [
      "Hello How are you?\n",
      "I am good\n",
      "Krish is my name\n",
      "Welcome to the course\n"
     ]
    }
   ],
   "source": [
    "## Read a file line by line\n",
    "\n",
    "with open('example.txt', 'r') as file:\n",
    "    for line in file:\n",
    "        print(line.strip())  ## .strip() removes the newline character"
   ]
  },
  {
   "cell_type": "code",
   "execution_count": 5,
   "id": "1855a836",
   "metadata": {},
   "outputs": [],
   "source": [
    "## Writing a file(Overwriting)\n",
    "\n",
    "with open('example.txt', 'w') as file:\n",
    "    file.write('Hello World\\n')\n",
    "    file.write('this is second line.')"
   ]
  },
  {
   "cell_type": "code",
   "execution_count": 8,
   "id": "4a054f6a",
   "metadata": {},
   "outputs": [],
   "source": [
    "## Write a file(wwithout Overwriting)\n",
    "with open('example.txt', 'a') as file:\n",
    "    file.write(\"Append operation performed.\\n\")"
   ]
  },
  {
   "cell_type": "code",
   "execution_count": 9,
   "id": "c4d83ea5",
   "metadata": {},
   "outputs": [],
   "source": [
    "### Writing a list of lines to a file\n",
    "lines=['First line \\n','Second line \\n','Third line\\n']\n",
    "with open('example.txt', 'a') as file:\n",
    "    file.writelines(lines)"
   ]
  },
  {
   "cell_type": "markdown",
   "id": "77b27e52",
   "metadata": {},
   "source": [
    "### Binary Files"
   ]
  },
  {
   "cell_type": "code",
   "execution_count": 15,
   "id": "69e03d37",
   "metadata": {},
   "outputs": [],
   "source": [
    "# Writing to a binary file\n",
    "\n",
    "data= b'\\x00\\x01\\x02\\x03\\x04'\n",
    "with open('example.bin', 'wb') as file:\n",
    "    file.write(data)"
   ]
  },
  {
   "cell_type": "code",
   "execution_count": 16,
   "id": "dca14fc6",
   "metadata": {},
   "outputs": [
    {
     "name": "stdout",
     "output_type": "stream",
     "text": [
      "b'\\x00\\x01\\x02\\x03\\x04'\n"
     ]
    }
   ],
   "source": [
    "# Reading a binary file\n",
    "\n",
    "with open('example.bin', 'rb') as file:\n",
    "    content = file.read()\n",
    "    print(content)"
   ]
  },
  {
   "cell_type": "markdown",
   "id": "dc87764b",
   "metadata": {},
   "source": [
    "### Read the content from  source text fiile and write to a destination text file\n"
   ]
  },
  {
   "cell_type": "code",
   "execution_count": 17,
   "id": "7690c131",
   "metadata": {},
   "outputs": [],
   "source": [
    "with open('example.txt', 'r') as source_file:\n",
    "    content = source_file.read()\n",
    "\n",
    "with open('destination.txt', 'w') as destination_file:\n",
    "    destination_file.write(content)"
   ]
  },
  {
   "cell_type": "markdown",
   "id": "3e9cac40",
   "metadata": {},
   "source": [
    "### Read a text file and count the number of lines, words, and characters.\n"
   ]
  },
  {
   "cell_type": "code",
   "execution_count": 19,
   "id": "23d2d087",
   "metadata": {},
   "outputs": [
    {
     "name": "stdout",
     "output_type": "stream",
     "text": [
      "Lines: 5, Words: 16, Character: 123\n"
     ]
    }
   ],
   "source": [
    "def count_txt(file_path):\n",
    "    with open(file_path, 'r') as file:\n",
    "        lines = file.readlines()\n",
    "        line_count = len(lines)\n",
    "        word_count = sum(len(line.split()) for line in lines)\n",
    "        char_count = sum(len(line) for line in lines)\n",
    "        return line_count, word_count, char_count\n",
    "    \n",
    "file_path = 'example.txt'\n",
    "line, words, character = count_txt(file_path)\n",
    "print(f\"Lines: {line}, Words: {words}, Character: {character}\")"
   ]
  },
  {
   "cell_type": "markdown",
   "id": "0d28493e",
   "metadata": {},
   "source": [
    "The w+ mode in Python is used to open a file for both reading and writing. If the file does not exist, it will be created. If the file exists, its content is truncated (i.e., the file is overwritten)."
   ]
  },
  {
   "cell_type": "code",
   "execution_count": 20,
   "id": "242efefd",
   "metadata": {},
   "outputs": [
    {
     "name": "stdout",
     "output_type": "stream",
     "text": [
      "Hello world\n",
      "this is a new lines \n",
      "\n"
     ]
    }
   ],
   "source": [
    "### Writing and then reading a file\n",
    "\n",
    "with open('example.txt', 'w+') as file:\n",
    "    file.write(\"Hello world\\n\")\n",
    "    file.write(\"this is a new lines \\n\")\n",
    "\n",
    "    file.seek(0)\n",
    "\n",
    "    content = file.read()\n",
    "    print(content)"
   ]
  }
 ],
 "metadata": {
  "kernelspec": {
   "display_name": "base",
   "language": "python",
   "name": "python3"
  },
  "language_info": {
   "codemirror_mode": {
    "name": "ipython",
    "version": 3
   },
   "file_extension": ".py",
   "mimetype": "text/x-python",
   "name": "python",
   "nbconvert_exporter": "python",
   "pygments_lexer": "ipython3",
   "version": "3.12.7"
  }
 },
 "nbformat": 4,
 "nbformat_minor": 5
}
