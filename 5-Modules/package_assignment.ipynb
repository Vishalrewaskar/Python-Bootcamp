{
 "cells": [
  {
   "cell_type": "markdown",
   "id": "03873972",
   "metadata": {},
   "source": [
    "## Lesson 5.1: Importing Modules\n",
    "### Assignment 1: Importing and Using Modules\n",
    "\n",
    "Import the `math` module and use it to calculate the square root of 25 and the sine of 90 degrees.\n"
   ]
  },
  {
   "cell_type": "code",
   "execution_count": 46,
   "id": "272fc9c1",
   "metadata": {},
   "outputs": [
    {
     "name": "stdout",
     "output_type": "stream",
     "text": [
      "5.0\n",
      "1.0\n"
     ]
    }
   ],
   "source": [
    "import math\n",
    "\n",
    "print(math.sqrt(25))\n",
    "print(math.sin(math.radians(90)))"
   ]
  },
  {
   "cell_type": "markdown",
   "id": "7b3796cc",
   "metadata": {},
   "source": [
    "### Assignment 2: Aliasing Modules\n",
    "\n",
    "Import the `datetime` module with an alias and use it to print the current date and time."
   ]
  },
  {
   "cell_type": "code",
   "execution_count": 4,
   "id": "e889ca31",
   "metadata": {},
   "outputs": [
    {
     "name": "stdout",
     "output_type": "stream",
     "text": [
      "2025-06-19 00:26:36.901681\n"
     ]
    }
   ],
   "source": [
    "import datetime as dt\n",
    "\n",
    "now = dt.datetime.now()\n",
    "print(now)"
   ]
  },
  {
   "cell_type": "markdown",
   "id": "87712d7f",
   "metadata": {},
   "source": [
    "### Assignment 3: Importing Specific Functions\n",
    "\n",
    "Import the `randint` function from the `random` module and use it to generate a random integer between 1 and 100."
   ]
  },
  {
   "cell_type": "code",
   "execution_count": 47,
   "id": "ea62f299",
   "metadata": {},
   "outputs": [
    {
     "name": "stdout",
     "output_type": "stream",
     "text": [
      "20\n"
     ]
    }
   ],
   "source": [
    "from random import randint\n",
    "\n",
    "print(randint(1,100))\n"
   ]
  },
  {
   "cell_type": "markdown",
   "id": "cd4f0511",
   "metadata": {},
   "source": [
    "### Assignment 4: Importing Multiple Functions\n",
    "\n",
    "Import the `sqrt` and `pow` functions from the `math` module and use them to calculate the square root of 16 and 2 raised to the power of 3."
   ]
  },
  {
   "cell_type": "code",
   "execution_count": 7,
   "id": "0dea98da",
   "metadata": {},
   "outputs": [
    {
     "name": "stdout",
     "output_type": "stream",
     "text": [
      "4.0\n",
      "8.0\n"
     ]
    }
   ],
   "source": [
    "from math import sqrt,pow\n",
    "\n",
    "print(math.sqrt(16))\n",
    "print(math.pow(2,3))"
   ]
  },
  {
   "cell_type": "markdown",
   "id": "25828dc0",
   "metadata": {},
   "source": [
    "### Assignment 5: Handling Import Errors\n",
    "\n",
    "Write code that attempts to import a non-existent module and gracefully handles the import error by printing an error message."
   ]
  },
  {
   "cell_type": "code",
   "execution_count": null,
   "id": "7a9a6750",
   "metadata": {},
   "outputs": [
    {
     "name": "stdout",
     "output_type": "stream",
     "text": [
      "Error: The 'vsr' could not be imported. Please ensure it is installed.\n"
     ]
    }
   ],
   "source": [
    "try:\n",
    "    import vsr   ## if module not exist thrwow error\n",
    "except ImportError:\n",
    "    print(\"Error: The 'vsr' could not be imported. Please ensure it is installed.\")"
   ]
  },
  {
   "cell_type": "markdown",
   "id": "2cb8cbcb",
   "metadata": {},
   "source": [
    "## Lesson 5.2: Standard Library Overview\n",
    "### Assignment 6: Working with the `os` Module\n",
    "\n",
    "Use the `os` module to create a new directory, list the contents of the current directory, and remove the newly created directory."
   ]
  },
  {
   "cell_type": "code",
   "execution_count": 48,
   "id": "537f9cd6",
   "metadata": {},
   "outputs": [
    {
     "name": "stdout",
     "output_type": "stream",
     "text": [
      "['5.1-import.ipynb', '5.2-Standardlibrary.ipynb', 'ass_test', 'destination.txt', 'example.csv', 'mypackage', 'package', 'packagesquestion.ipynb', 'package_assignment.ipynb', 'source.txt', 'test.py']\n",
      "['5.1-import.ipynb', '5.2-Standardlibrary.ipynb', 'ass_test', 'destination.txt', 'example.csv', 'mypackage', 'package', 'packagesquestion.ipynb', 'package_assignment.ipynb', 'source.txt', 'test.py']\n"
     ]
    }
   ],
   "source": [
    "import os\n",
    "\n",
    "os.mkdir('ass_test')\n",
    "print(os.listdir('.'))\n",
    "contents = os.listdir('ass_test')\n",
    "print(os.listdir('.'))"
   ]
  },
  {
   "cell_type": "code",
   "execution_count": null,
   "id": "65b8f2be",
   "metadata": {},
   "outputs": [],
   "source": []
  },
  {
   "cell_type": "code",
   "execution_count": 17,
   "id": "4553b77e",
   "metadata": {},
   "outputs": [],
   "source": [
    "os.rmdir('ass_test.py')"
   ]
  },
  {
   "cell_type": "markdown",
   "id": "1cf8b8a4",
   "metadata": {},
   "source": [
    "### Assignment 7: Working with the `sys` Module\n",
    "\n",
    "Use the `sys` module to print the Python version currently in use and the command-line arguments passed to the script."
   ]
  },
  {
   "cell_type": "code",
   "execution_count": 49,
   "id": "b66a9844",
   "metadata": {},
   "outputs": [
    {
     "name": "stdout",
     "output_type": "stream",
     "text": [
      "3.12.7 | packaged by Anaconda, Inc. | (main, Oct  4 2024, 13:17:27) [MSC v.1929 64 bit (AMD64)]\n",
      "['d:\\\\anaconda3\\\\Lib\\\\site-packages\\\\ipykernel_launcher.py', '--f=c:\\\\Users\\\\Administrator\\\\AppData\\\\Roaming\\\\jupyter\\\\runtime\\\\kernel-v3dff9f3dc16e15742eb525c10bba291431ce6328b.json']\n"
     ]
    }
   ],
   "source": [
    "import sys\n",
    "\n",
    "print(sys.version)\n",
    "print(sys.argv)"
   ]
  },
  {
   "cell_type": "markdown",
   "id": "ecc288a4",
   "metadata": {},
   "source": [
    "### Assignment 8: Working with the `math` Module\n",
    "\n",
    "Use the `math` module to calculate the greatest common divisor (GCD) of two numbers and the factorial of a number."
   ]
  },
  {
   "cell_type": "code",
   "execution_count": 50,
   "id": "e15559fb",
   "metadata": {},
   "outputs": [
    {
     "name": "stdout",
     "output_type": "stream",
     "text": [
      "10\n",
      "720\n"
     ]
    }
   ],
   "source": [
    "import  math\n",
    "\n",
    "gcd = math.gcd(10,20)\n",
    "print(gcd)\n",
    "fact= math.factorial(6)\n",
    "print(fact)"
   ]
  },
  {
   "cell_type": "markdown",
   "id": "aa929b72",
   "metadata": {},
   "source": [
    "### Assignment 9: Working with the `datetime` Module\n",
    "\n",
    "Use the `datetime` module to print the current date, calculate the date 100 days from today, and determine the day of the week for a given date."
   ]
  },
  {
   "cell_type": "code",
   "execution_count": 55,
   "id": "9f102ea3",
   "metadata": {},
   "outputs": [
    {
     "name": "stdout",
     "output_type": "stream",
     "text": [
      "2025-06-19\n",
      "2025-09-27\n",
      "Saturday\n"
     ]
    }
   ],
   "source": [
    "import datetime\n",
    "\n",
    "today = datetime.date.today()\n",
    "print(today)\n",
    "\n",
    "future_date = today + datetime.timedelta(days=100)\n",
    "print(future_date)\n",
    "\n",
    "given_date = datetime.date(2022, 1, 1)\n",
    "print(given_date.strftime('%A'))"
   ]
  },
  {
   "cell_type": "markdown",
   "id": "60f984f2",
   "metadata": {},
   "source": [
    "### Assignment 10: Working with the `random` Module\n",
    "\n",
    "Use the `random` module to generate a list of 5 random numbers between 1 and 50 and shuffle the elements of a list."
   ]
  },
  {
   "cell_type": "code",
   "execution_count": 60,
   "id": "536cb315",
   "metadata": {},
   "outputs": [
    {
     "name": "stdout",
     "output_type": "stream",
     "text": [
      "[8, 6, 1, 15, 13]\n"
     ]
    }
   ],
   "source": [
    "import random\n",
    "lst = []\n",
    "\n",
    "count = 0\n",
    "while count<5:\n",
    "    lst.append(randint(1,50))\n",
    "    count+=1\n",
    "\n",
    "print(lst)"
   ]
  },
  {
   "cell_type": "markdown",
   "id": "9c234bae",
   "metadata": {},
   "source": [
    "## Lesson 5.3: Creating and Using Packages\n",
    "### Assignment 11: Creating a Simple Package\n",
    "\n",
    "Create a package named `mypackage` with two modules: `module1` and `module2`. `module1` should contain a function that adds two numbers, and `module2` should contain a function that multiplies two numbers. Write code to use these functions.\n"
   ]
  },
  {
   "cell_type": "code",
   "execution_count": null,
   "id": "374040cf",
   "metadata": {},
   "outputs": [
    {
     "name": "stdout",
     "output_type": "stream",
     "text": [
      "12\n",
      "28\n"
     ]
    }
   ],
   "source": [
    "from mypackage import module1\n",
    "from mypackage.subpacckage import module2\n",
    "\n",
    "print(module1.addition(5,7))\n",
    "print(module2.multiplication(4,7))"
   ]
  },
  {
   "cell_type": "markdown",
   "id": "ce55c068",
   "metadata": {},
   "source": [
    "### Assignment 12: Using `__init__.py`\n",
    "\n",
    "Modify the `mypackage` package to include an `__init__.py` file that imports the functions from `module1` and `module2`. Write code to use these functions.\n"
   ]
  },
  {
   "cell_type": "code",
   "execution_count": 64,
   "id": "b01a3f9b",
   "metadata": {},
   "outputs": [
    {
     "ename": "ImportError",
     "evalue": "cannot import name 'addition' from 'mypackage' (d:\\python-Bootcamp\\5-Modules\\mypackage\\__init__.py)",
     "output_type": "error",
     "traceback": [
      "\u001b[1;31m---------------------------------------------------------------------------\u001b[0m",
      "\u001b[1;31mImportError\u001b[0m                               Traceback (most recent call last)",
      "Cell \u001b[1;32mIn[64], line 1\u001b[0m\n\u001b[1;32m----> 1\u001b[0m \u001b[38;5;28;01mfrom\u001b[39;00m \u001b[38;5;21;01mmypackage\u001b[39;00m \u001b[38;5;28;01mimport\u001b[39;00m addition, multiplication\n\u001b[0;32m      3\u001b[0m \u001b[38;5;28mprint\u001b[39m(addition(\u001b[38;5;241m4\u001b[39m,\u001b[38;5;241m9\u001b[39m))\n\u001b[0;32m      4\u001b[0m \u001b[38;5;28mprint\u001b[39m(multiplication(\u001b[38;5;241m4\u001b[39m,\u001b[38;5;241m5\u001b[39m))\n",
      "\u001b[1;31mImportError\u001b[0m: cannot import name 'addition' from 'mypackage' (d:\\python-Bootcamp\\5-Modules\\mypackage\\__init__.py)"
     ]
    }
   ],
   "source": [
    "from mypackage import addition, multiplication\n",
    "\n",
    "print(addition(4,9))\n",
    "print(multiplication(4,5))"
   ]
  },
  {
   "cell_type": "markdown",
   "id": "beb042d0",
   "metadata": {},
   "source": [
    "### Assignment 13: Importing from a Package\n",
    "\n",
    "Write code to import and use the functions from `mypackage` without explicitly importing `module1` and `module2`.\n"
   ]
  },
  {
   "cell_type": "code",
   "execution_count": 69,
   "id": "52c526ad",
   "metadata": {},
   "outputs": [
    {
     "ename": "ImportError",
     "evalue": "cannot import name 'addition' from 'mypackage' (d:\\python-Bootcamp\\5-Modules\\mypackage\\__init__.py)",
     "output_type": "error",
     "traceback": [
      "\u001b[1;31m---------------------------------------------------------------------------\u001b[0m",
      "\u001b[1;31mImportError\u001b[0m                               Traceback (most recent call last)",
      "Cell \u001b[1;32mIn[69], line 1\u001b[0m\n\u001b[1;32m----> 1\u001b[0m \u001b[38;5;28;01mfrom\u001b[39;00m \u001b[38;5;21;01mmypackage\u001b[39;00m \u001b[38;5;28;01mimport\u001b[39;00m addition, multiplication\n\u001b[0;32m      2\u001b[0m \u001b[38;5;28mprint\u001b[39m(addition(\u001b[38;5;241m2\u001b[39m,\u001b[38;5;241m4\u001b[39m))\n\u001b[0;32m      3\u001b[0m \u001b[38;5;28mprint\u001b[39m(multiplication(\u001b[38;5;241m2\u001b[39m,\u001b[38;5;241m5\u001b[39m))\n",
      "\u001b[1;31mImportError\u001b[0m: cannot import name 'addition' from 'mypackage' (d:\\python-Bootcamp\\5-Modules\\mypackage\\__init__.py)"
     ]
    }
   ],
   "source": [
    "from mypackage import addition, multiplication\n",
    "print(addition(2,4))\n",
    "print(multiplication(2,5))"
   ]
  },
  {
   "cell_type": "markdown",
   "id": "c5105789",
   "metadata": {},
   "source": [
    "### Assignment 14: Relative Imports\n",
    "\n",
    "Create a subpackage named `subpackage` within `mypackage` and move `module2` into `subpackage`. Modify the import statements in `__init__.py` to use relative imports. Write code to use the functions from both modules.\n"
   ]
  },
  {
   "cell_type": "code",
   "execution_count": 74,
   "id": "3172442e",
   "metadata": {},
   "outputs": [
    {
     "ename": "ImportError",
     "evalue": "cannot import name 'addition' from 'mypackage' (d:\\python-Bootcamp\\5-Modules\\mypackage\\__init__.py)",
     "output_type": "error",
     "traceback": [
      "\u001b[1;31m---------------------------------------------------------------------------\u001b[0m",
      "\u001b[1;31mImportError\u001b[0m                               Traceback (most recent call last)",
      "Cell \u001b[1;32mIn[74], line 1\u001b[0m\n\u001b[1;32m----> 1\u001b[0m \u001b[38;5;28;01mfrom\u001b[39;00m \u001b[38;5;21;01mmypackage\u001b[39;00m \u001b[38;5;28;01mimport\u001b[39;00m addition, multiplication\n\u001b[0;32m      3\u001b[0m \u001b[38;5;28mprint\u001b[39m(addition(\u001b[38;5;241m4\u001b[39m,\u001b[38;5;241m5\u001b[39m))\n\u001b[0;32m      4\u001b[0m \u001b[38;5;28mprint\u001b[39m(module2\u001b[38;5;241m.\u001b[39mmultiplication(\u001b[38;5;241m4\u001b[39m,\u001b[38;5;241m6\u001b[39m))\n",
      "\u001b[1;31mImportError\u001b[0m: cannot import name 'addition' from 'mypackage' (d:\\python-Bootcamp\\5-Modules\\mypackage\\__init__.py)"
     ]
    }
   ],
   "source": [
    "from mypackage import addition, multiplication\n",
    "\n",
    "print(addition(4,5))\n",
    "print(module2.multiplication(4,6))"
   ]
  },
  {
   "cell_type": "markdown",
   "id": "0fa6edf6",
   "metadata": {},
   "source": [
    "### Assignment 15: Handling Package Import Errors\n",
    "\n",
    "Write code that attempts to import a non-existent function from `mypackage` and gracefully handles the import error by printing an error message."
   ]
  },
  {
   "cell_type": "code",
   "execution_count": 66,
   "id": "493370ce",
   "metadata": {},
   "outputs": [
    {
     "name": "stdout",
     "output_type": "stream",
     "text": [
      "Error importing function: cannot import name 'vse' from 'mypackage' (d:\\python-Bootcamp\\5-Modules\\mypackage\\__init__.py)\n"
     ]
    }
   ],
   "source": [
    "try:\n",
    "    from mypackage import vse\n",
    "except ImportError as e:\n",
    "    print(f\"Error importing function: {e}\")"
   ]
  }
 ],
 "metadata": {
  "kernelspec": {
   "display_name": "base",
   "language": "python",
   "name": "python3"
  },
  "language_info": {
   "codemirror_mode": {
    "name": "ipython",
    "version": 3
   },
   "file_extension": ".py",
   "mimetype": "text/x-python",
   "name": "python",
   "nbconvert_exporter": "python",
   "pygments_lexer": "ipython3",
   "version": "3.12.7"
  }
 },
 "nbformat": 4,
 "nbformat_minor": 5
}
