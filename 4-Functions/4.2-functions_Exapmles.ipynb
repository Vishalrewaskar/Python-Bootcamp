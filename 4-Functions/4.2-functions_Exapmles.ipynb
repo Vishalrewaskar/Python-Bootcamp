{
 "cells": [
  {
   "cell_type": "markdown",
   "id": "f763da94",
   "metadata": {},
   "source": [
    "# Lecture: Function Examples"
   ]
  },
  {
   "cell_type": "markdown",
   "id": "7e79293c",
   "metadata": {},
   "source": [
    "### 1. Temperature Conversion"
   ]
  },
  {
   "cell_type": "code",
   "execution_count": 7,
   "id": "7e8f0bdd",
   "metadata": {},
   "outputs": [
    {
     "name": "stdout",
     "output_type": "stream",
     "text": [
      "77.0\n",
      "37.22222222222222\n"
     ]
    }
   ],
   "source": [
    "def temp_con(temp, unit):\n",
    "    \"\"\"This function converts temperature between Celsius and Fahrenheit\"\"\"\n",
    "    if unit=='C':\n",
    "        return temp *9/5 + 32  ## convert celsius to Fahrenheit\n",
    "    elif unit=='F':\n",
    "        return (temp-32)*5/9  ## convert Fahrenheit to celsius\n",
    "    else:\n",
    "        return None\n",
    "    \n",
    "print(temp_con(25,'C'))\n",
    "print(temp_con(99,'F'))"
   ]
  },
  {
   "cell_type": "markdown",
   "id": "b67f33d8",
   "metadata": {},
   "source": [
    "### 2. Password Strength Checker"
   ]
  },
  {
   "cell_type": "code",
   "execution_count": 8,
   "id": "027bb062",
   "metadata": {},
   "outputs": [
    {
     "name": "stdout",
     "output_type": "stream",
     "text": [
      "False\n",
      "True\n"
     ]
    }
   ],
   "source": [
    "def is_strong_passwrd(password):\n",
    "    \"\"\"This function checcks the password is storng or not\"\"\"\n",
    "    if len(password) < 8:\n",
    "        return False\n",
    "    if not any(char.isdigit() for char in password):\n",
    "        return False\n",
    "    if not any (char.islower() for char in password):\n",
    "        return False\n",
    "    if not any (char.isupper() for char in password):\n",
    "        return False\n",
    "    if not any (char in '!@#$%^&*()_+' for char in password):\n",
    "        return False\n",
    "    return True\n",
    "\n",
    "print(is_strong_passwrd('WeakPwd'))\n",
    "print(is_strong_passwrd('Str0ngPwd!'))"
   ]
  },
  {
   "cell_type": "markdown",
   "id": "2035958d",
   "metadata": {},
   "source": [
    "### 3. Calculate the Total Cost of item in a shopping CArt"
   ]
  },
  {
   "cell_type": "code",
   "execution_count": 11,
   "id": "dc74321d",
   "metadata": {},
   "outputs": [
    {
     "name": "stdout",
     "output_type": "stream",
     "text": [
      "5.8999999999999995\n"
     ]
    }
   ],
   "source": [
    "def cal_total_cost(cart):\n",
    "    totol_cost=0\n",
    "    for  item in cart:\n",
    "        totol_cost+=item['price']*item['quantity']\n",
    "\n",
    "    return totol_cost\n",
    "\n",
    "## Example of Cart data\n",
    "cart =[\n",
    "    {'name':'apple', 'price':0.5, 'quantity':4},\n",
    "    {'name':'banana', 'price':0.3, 'quantity':6},\n",
    "    {'name':'orange', 'price':0.7, 'quantity':3}\n",
    "]\n",
    "\n",
    "#Calling the function\n",
    "totol_cost = cal_total_cost(cart)\n",
    "print(totol_cost)"
   ]
  },
  {
   "cell_type": "markdown",
   "id": "c3ce1cc6",
   "metadata": {},
   "source": [
    "### 4. Check if a string is palindrome"
   ]
  },
  {
   "cell_type": "code",
   "execution_count": 23,
   "id": "9eed22a3",
   "metadata": {},
   "outputs": [
    {
     "data": {
      "text/plain": [
       "True"
      ]
     },
     "execution_count": 23,
     "metadata": {},
     "output_type": "execute_result"
    }
   ],
   "source": [
    "def is_palindrome(str):\n",
    "    str = str.lower().replace(\" \",\"\")\n",
    "    return str == str[::-1]\n",
    "    \n",
    "is_palindrome('12321')\n",
    "is_palindrome('ABCba')"
   ]
  },
  {
   "cell_type": "markdown",
   "id": "2b860ee5",
   "metadata": {},
   "source": [
    "### 5. Calculate factorial of a numbers usig recursion"
   ]
  },
  {
   "cell_type": "code",
   "execution_count": 24,
   "id": "b735dbd8",
   "metadata": {},
   "outputs": [
    {
     "name": "stdout",
     "output_type": "stream",
     "text": [
      "120\n"
     ]
    }
   ],
   "source": [
    "def factorial(n):\n",
    "    if n==0:\n",
    "        return 1\n",
    "    else:\n",
    "        return n * factorial(n-1)\n",
    "\n",
    "print(factorial(5))"
   ]
  },
  {
   "cell_type": "markdown",
   "id": "b17d8a46",
   "metadata": {},
   "source": [
    "### 6.  A function to read a file and count the frequency of each word"
   ]
  },
  {
   "cell_type": "code",
   "execution_count": 25,
   "id": "07fbd16d",
   "metadata": {},
   "outputs": [
    {
     "name": "stdout",
     "output_type": "stream",
     "text": [
      "{'hello': 1, 'world': 1, 'how': 1, 'are': 1, 'you': 1, 'my': 1, 'name': 1, 'is': 1, 'vishal': 1}\n"
     ]
    }
   ],
   "source": [
    "def count_word_frequency(file_path):\n",
    "    word_count = {}\n",
    "\n",
    "    with open(file_path, 'r') as file:\n",
    "        for line in file:\n",
    "            words = line.split()\n",
    "            for word in words:\n",
    "                word = word.lower().strip('.,!?;:\"\\'')\n",
    "                word_count[word]= word_count.get(word, 0)+1\n",
    "\n",
    "    return word_count\n",
    "\n",
    "filepath='sample.txt'\n",
    "word_freq = count_word_frequency(filepath)\n",
    "print(word_freq)"
   ]
  },
  {
   "cell_type": "markdown",
   "id": "362f0e05",
   "metadata": {},
   "source": [
    "### 7. Validate Email address"
   ]
  },
  {
   "cell_type": "code",
   "execution_count": 34,
   "id": "85cd3578",
   "metadata": {},
   "outputs": [
    {
     "ename": "SyntaxError",
     "evalue": "invalid syntax (2512863941.py, line 10)",
     "output_type": "error",
     "traceback": [
      "\u001b[1;36m  Cell \u001b[1;32mIn[34], line 10\u001b[1;36m\u001b[0m\n\u001b[1;33m    print(is_email('vis.h?>almail.com')):\u001b[0m\n\u001b[1;37m                                        ^\u001b[0m\n\u001b[1;31mSyntaxError\u001b[0m\u001b[1;31m:\u001b[0m invalid syntax\n"
     ]
    }
   ],
   "source": [
    "def is_email(mail):\n",
    "    if not any (char in '.' for char in mail):\n",
    "        return False\n",
    "    if not any(char in '@gmail.com' for char in mail):\n",
    "        return False\n",
    "    if not any(char in ',?;:\"\\'!@#$%^&*()_+' for char in mail):\n",
    "        return True\n",
    "    return True\n",
    "\n",
    "print(is_email('vis.h?>almail.com')):"
   ]
  }
 ],
 "metadata": {
  "kernelspec": {
   "display_name": "base",
   "language": "python",
   "name": "python3"
  },
  "language_info": {
   "codemirror_mode": {
    "name": "ipython",
    "version": 3
   },
   "file_extension": ".py",
   "mimetype": "text/x-python",
   "name": "python",
   "nbconvert_exporter": "python",
   "pygments_lexer": "ipython3",
   "version": "3.12.7"
  }
 },
 "nbformat": 4,
 "nbformat_minor": 5
}
