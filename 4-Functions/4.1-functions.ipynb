{
 "cells": [
  {
   "cell_type": "markdown",
   "id": "70801735",
   "metadata": {},
   "source": [
    "### Functions\n",
    " - A function is a block of code that performs a specific task. \n",
    " - Functions help in organizing code, reusing code, and improving readability."
   ]
  },
  {
   "cell_type": "code",
   "execution_count": 1,
   "id": "a22b0aab",
   "metadata": {},
   "outputs": [],
   "source": [
    "## syntax\n",
    "def function_name(parameters):\n",
    "    \"\"\"Docstrings\"\"\"\n",
    "    return expression"
   ]
  },
  {
   "cell_type": "code",
   "execution_count": 2,
   "id": "0e08fe6e",
   "metadata": {},
   "outputs": [
    {
     "name": "stdout",
     "output_type": "stream",
     "text": [
      "Number is even\n"
     ]
    }
   ],
   "source": [
    "# why functions?\n",
    "num=24\n",
    "if num%2==0:\n",
    "    print(\"Number is even\")\n",
    "else:\n",
    "    print(\"number is odd\")"
   ]
  },
  {
   "cell_type": "code",
   "execution_count": 3,
   "id": "3661f52c",
   "metadata": {},
   "outputs": [],
   "source": [
    "def even_or_odd(num):  #function created\n",
    "    if num%2==0:\n",
    "      print(\"Number is even\")\n",
    "    else:\n",
    "        print(\"number is odd\")"
   ]
  },
  {
   "cell_type": "code",
   "execution_count": 6,
   "id": "522ecf69",
   "metadata": {},
   "outputs": [
    {
     "name": "stdout",
     "output_type": "stream",
     "text": [
      "Number is even\n"
     ]
    }
   ],
   "source": [
    "even_or_odd(62) #### Call this function"
   ]
  },
  {
   "cell_type": "code",
   "execution_count": 8,
   "id": "7ecda26f",
   "metadata": {},
   "outputs": [
    {
     "data": {
      "text/plain": [
       "12"
      ]
     },
     "execution_count": 8,
     "metadata": {},
     "output_type": "execute_result"
    }
   ],
   "source": [
    "## function with multiple parameters\n",
    "def add(a,b):\n",
    "    return a*b\n",
    "\n",
    "add(2,6)"
   ]
  },
  {
   "cell_type": "markdown",
   "id": "51673003",
   "metadata": {},
   "source": [
    "### Default Parameters\n"
   ]
  },
  {
   "cell_type": "code",
   "execution_count": 12,
   "id": "b602f9cd",
   "metadata": {},
   "outputs": [
    {
     "name": "stdout",
     "output_type": "stream",
     "text": [
      "Hello Krish\n"
     ]
    }
   ],
   "source": [
    "def greet(name):  \n",
    "    print(f\"Hello {name}\")\n",
    "\n",
    "greet('Krish') "
   ]
  },
  {
   "cell_type": "code",
   "execution_count": null,
   "id": "6e38c234",
   "metadata": {},
   "outputs": [
    {
     "ename": "TypeError",
     "evalue": "greet() missing 1 required positional argument: 'name'",
     "output_type": "error",
     "traceback": [
      "\u001b[1;31m---------------------------------------------------------------------------\u001b[0m",
      "\u001b[1;31mTypeError\u001b[0m                                 Traceback (most recent call last)",
      "Cell \u001b[1;32mIn[13], line 1\u001b[0m\n\u001b[1;32m----> 1\u001b[0m greet()\n",
      "\u001b[1;31mTypeError\u001b[0m: greet() missing 1 required positional argument: 'name'"
     ]
    }
   ],
   "source": [
    "greet() # no parameter "
   ]
  },
  {
   "cell_type": "code",
   "execution_count": 15,
   "id": "c68eb5e9",
   "metadata": {},
   "outputs": [
    {
     "name": "stdout",
     "output_type": "stream",
     "text": [
      "Hello Guest\n"
     ]
    }
   ],
   "source": [
    "def greet(name = 'Guest'):   ## Default parameter\n",
    "    print(f\"Hello {name}\")\n",
    "\n",
    "greet() "
   ]
  },
  {
   "cell_type": "markdown",
   "id": "5c3194fe",
   "metadata": {},
   "source": [
    "### Variable Length Arguments\n"
   ]
  },
  {
   "cell_type": "markdown",
   "id": "facece85",
   "metadata": {},
   "source": [
    "Positional arguments\n"
   ]
  },
  {
   "cell_type": "code",
   "execution_count": 16,
   "id": "5b0f5a61",
   "metadata": {},
   "outputs": [],
   "source": [
    "def print_numbers(*args):\n",
    "    for number in args:\n",
    "        print(number)"
   ]
  },
  {
   "cell_type": "code",
   "execution_count": 17,
   "id": "eee4d249",
   "metadata": {},
   "outputs": [
    {
     "name": "stdout",
     "output_type": "stream",
     "text": [
      "1\n",
      "2\n",
      "3\n",
      "4\n",
      "Krish\n"
     ]
    }
   ],
   "source": [
    "print_numbers(1,2,3,4,\"Krish\")"
   ]
  },
  {
   "cell_type": "markdown",
   "id": "ae12fa5a",
   "metadata": {},
   "source": [
    "Keywords Arguments\n"
   ]
  },
  {
   "cell_type": "code",
   "execution_count": 18,
   "id": "7ca35357",
   "metadata": {},
   "outputs": [],
   "source": [
    "def print_details(**kwargs):\n",
    "    for key, value in kwargs.items():\n",
    "        print(f\"{key} : {value}\")"
   ]
  },
  {
   "cell_type": "code",
   "execution_count": 20,
   "id": "ee3aa1ff",
   "metadata": {},
   "outputs": [
    {
     "name": "stdout",
     "output_type": "stream",
     "text": [
      "name : Vishal\n",
      "age : 21\n",
      "city : Pune\n"
     ]
    }
   ],
   "source": [
    "print_details(name=\"Vishal\", age=\"21\", city=\"Pune\")"
   ]
  },
  {
   "cell_type": "code",
   "execution_count": 23,
   "id": "c468c146",
   "metadata": {},
   "outputs": [],
   "source": [
    "## combine code positonall & keywords arguments\n",
    "def prnt_details(*args,**kwargs):\n",
    "    for num in args:\n",
    "        print(f\"Psitional arguments: {num}\")\n",
    "\n",
    "    for keys,value in kwargs.items():\n",
    "        print(f\"{keys} : {value}\")"
   ]
  },
  {
   "cell_type": "code",
   "execution_count": 24,
   "id": "4bb1444d",
   "metadata": {},
   "outputs": [
    {
     "name": "stdout",
     "output_type": "stream",
     "text": [
      "Psitional arguments: 1\n",
      "Psitional arguments: 2\n",
      "Psitional arguments: 3\n",
      "Psitional arguments: 4\n",
      "Psitional arguments: Vishal\n",
      "name : Vishal\n",
      "age : 21\n",
      "city : Pune\n"
     ]
    }
   ],
   "source": [
    "prnt_details(1,2,3,4,\"Vishal\", name=\"Vishal\", age=\"21\", city=\"Pune\")"
   ]
  },
  {
   "cell_type": "markdown",
   "id": "76e519e4",
   "metadata": {},
   "source": [
    "### Return statements\n"
   ]
  },
  {
   "cell_type": "code",
   "execution_count": 26,
   "id": "e9a08ef7",
   "metadata": {},
   "outputs": [
    {
     "data": {
      "text/plain": [
       "24"
      ]
     },
     "execution_count": 26,
     "metadata": {},
     "output_type": "execute_result"
    }
   ],
   "source": [
    "def multiply(a,b):\n",
    "    return a*b\n",
    "\n",
    "multiply(4,6)"
   ]
  },
  {
   "cell_type": "code",
   "execution_count": null,
   "id": "75e9b4a9",
   "metadata": {},
   "outputs": [
    {
     "data": {
      "text/plain": [
       "(15, 3)"
      ]
     },
     "execution_count": 27,
     "metadata": {},
     "output_type": "execute_result"
    }
   ],
   "source": [
    "def multiply(a,b): ### Return multiple parameters\n",
    "    return a*b,a\n",
    "\n",
    "multiply(3,5)"
   ]
  }
 ],
 "metadata": {
  "kernelspec": {
   "display_name": "base",
   "language": "python",
   "name": "python3"
  },
  "language_info": {
   "codemirror_mode": {
    "name": "ipython",
    "version": 3
   },
   "file_extension": ".py",
   "mimetype": "text/x-python",
   "name": "python",
   "nbconvert_exporter": "python",
   "pygments_lexer": "ipython3",
   "version": "3.12.7"
  }
 },
 "nbformat": 4,
 "nbformat_minor": 5
}
